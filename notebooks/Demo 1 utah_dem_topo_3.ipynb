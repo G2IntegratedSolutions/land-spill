{
 "cells": [
  {
   "cell_type": "markdown",
   "metadata": {},
   "source": [
    "Demo 1: utah_dem_topo_3\n",
    "==========================================="
   ]
  },
  {
   "cell_type": "markdown",
   "metadata": {},
   "source": [
    "## 1. Topography"
   ]
  },
  {
   "cell_type": "markdown",
   "metadata": {},
   "source": [
    "### 1.1 Description\n",
    "\n",
    "* **Topography file name**: utah_dem_topo_3.txt\n",
    "* **Range** (the bottom-left corner and top-right corner):\n",
    "    * In EPSG:3857 WGS 84 coordinates: (-12461650, 4984000) and $(-12457650, 4988000)\n",
    "    * In Google Map: (40.8075728, -111.9449067) and (40.834765, -111.908974)"
   ]
  },
  {
   "cell_type": "markdown",
   "metadata": {},
   "source": [
    "### 1.2 Satellite image (from Google Map)\n",
    "<img src=\"./images/utah-dem-gmap.png\" height=50% width=50%>"
   ]
  },
  {
   "cell_type": "markdown",
   "metadata": {},
   "source": [
    "### 1.3 Topography elevation\n",
    "<img src=\"./images/utah-dem-topo.png\" height=80% width=80%>"
   ]
  },
  {
   "cell_type": "markdown",
   "metadata": {},
   "source": [
    "## 2. Pipeline breakage point"
   ]
  },
  {
   "cell_type": "markdown",
   "metadata": {},
   "source": [
    "### 2.1 Description\n",
    "\n",
    "* Location:\n",
    "    * In EPSG:3857 WGS 84 coordinates: (-12459650, 4986000)\n",
    "    * In Google Map: (40.8211703, -111.9269403)\n",
    "* Rate ($m^3/sec$):\n",
    "$$\n",
    "Q = \\left\\{\n",
    "\\begin{array}{ll}\n",
    "0.5\\ m^3/sec & ,\\ 0<=t<30\\ (minutes) \\\\\n",
    "0.1\\ m^3/sec & ,\\ 30<=t<210\\ (minutes) \\\\\n",
    "0\\ m^3/sec & ,\\ t>=210\\ (minutes)\n",
    "\\end{array}\n",
    "\\right.\n",
    "$$"
   ]
  },
  {
   "cell_type": "markdown",
   "metadata": {},
   "source": [
    "### 2.2 Satellite image at the vinicity of the breakage point\n",
    "\n",
    "<img src=\"./images/utah-dem-break.png\" height=60% width=60%>"
   ]
  },
  {
   "cell_type": "markdown",
   "metadata": {},
   "source": [
    "### 2.3 Topography elevation at the vinicity of the breakage point\n",
    "<img src=\"./images/utah-dem-topo-break.png\" height=80% width=80%>"
   ]
  },
  {
   "cell_type": "markdown",
   "metadata": {},
   "source": [
    "## 3. Other simulation setup\n",
    "\n",
    "* Simulation durations: 0 to 8 hours\n",
    "* Computing node: 6 CPU cores (Intel i7-5930K)\n",
    "* Output frequency: every 10 minutes (time in the simulation)\n",
    "* Output format: ASCII\n",
    "* AMR Setting: two-level AMR mesh\n",
    "    * Coarse mesh: 4m x 4m cell size\n",
    "    * Fine mesh: 1m x 1m cell size\n",
    "    * AMR algorithm: GeoClaw default algorithm\n",
    "* Initial mesh setup: coarse mesh everywhere\n",
    "* Initial number of cells: 1000 x 1000\n",
    "* Adaptive time step: Yes\n",
    "    * Initial time step: 1e-5 sec\n",
    "    * Max allowed time step: 1.0 sec\n",
    "* Boundary conditions: outflow (*extrapolation* in GeoClaw terminology)\n",
    "* Friction calculation:\n",
    "    * Manning's equation\n",
    "    * Manning's coefficient: 0.035"
   ]
  },
  {
   "cell_type": "markdown",
   "metadata": {},
   "source": [
    "## 4. Result\n",
    "\n",
    "* Runtime: about 40 minutes\n",
    "* Final number of cells:\n",
    "    * Total: 1071424\n",
    "    * Coarse cells: 1000000\n",
    "    * Fine mesh: 71424"
   ]
  },
  {
   "cell_type": "markdown",
   "metadata": {},
   "source": [
    "### 4.1 Animation"
   ]
  },
  {
   "cell_type": "code",
   "execution_count": 1,
   "metadata": {},
   "outputs": [
    {
     "data": {
      "text/html": [
       "    <video width=100% height=100% controls>\n",
       "        <source src='./images/utah-dem.mp4'>\n",
       "        Your browser does not support the video tag.\n",
       "    </video>"
      ],
      "text/plain": [
       "<IPython.core.display.HTML object>"
      ]
     },
     "metadata": {},
     "output_type": "display_data"
    }
   ],
   "source": [
    "%%html\n",
    "    <video width=100% height=100% controls>\n",
    "        <source src='./images/utah-dem.mp4'>\n",
    "        Your browser does not support the video tag.\n",
    "    </video>"
   ]
  }
 ],
 "metadata": {
  "kernelspec": {
   "display_name": "Python 3",
   "language": "python",
   "name": "python3"
  },
  "language_info": {
   "codemirror_mode": {
    "name": "ipython",
    "version": 3
   },
   "file_extension": ".py",
   "mimetype": "text/x-python",
   "name": "python",
   "nbconvert_exporter": "python",
   "pygments_lexer": "ipython3",
   "version": "3.6.6"
  }
 },
 "nbformat": 4,
 "nbformat_minor": 2
}
