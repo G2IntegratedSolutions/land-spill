{
 "cells": [
  {
   "cell_type": "markdown",
   "metadata": {},
   "source": [
    "Demo 3: utah_dem_topo_3\n",
    "==========================================="
   ]
  },
  {
   "cell_type": "markdown",
   "metadata": {},
   "source": [
    "Demo 3 is based on Demo 2 with minor changes to simulation parameters."
   ]
  },
  {
   "cell_type": "markdown",
   "metadata": {},
   "source": [
    "## 1. Topography\n",
    "\n",
    "The topography file is the same as Demo 1 and Demo 2."
   ]
  },
  {
   "cell_type": "markdown",
   "metadata": {},
   "source": [
    "## 2. Pipeline breakage point\n",
    "\n",
    "The location and settings are the same as Demo 1 and Demo 2."
   ]
  },
  {
   "cell_type": "markdown",
   "metadata": {},
   "source": [
    "## 3. Other simulation setup\n",
    "\n",
    "Only the difference against Demo 2 is listed.\n",
    "\n",
    "* Initial time step size: 2 sec\n",
    "* Maximun time step allowed: 2 sec\n",
    "* Desired CFL number: 0.75\n",
    "* Maximum CFL allowed: 1.0\n",
    "* A 10m by 10m region surrounding the source point has fine mesh at the beginning\n",
    "* When a cell is flagged to be refined, the surrounding 24 cells are also refined (instead of 8 cells as in Demo 2)."
   ]
  },
  {
   "cell_type": "markdown",
   "metadata": {},
   "source": [
    "## 4. Result\n",
    "\n",
    "Only the difference is listed.\n",
    "\n",
    "* Runtime: about 14 minutes\n",
    "* Final number of cells:\n",
    "    * Total: 137232\n",
    "    * Coarse cells: 40000\n",
    "    * Fine cells: 97232\n",
    "* Final total volume: 1940.0 m^3 (theoretical value: 1980.0 m^3)"
   ]
  },
  {
   "cell_type": "markdown",
   "metadata": {},
   "source": [
    "### 4.1 Animation"
   ]
  },
  {
   "cell_type": "code",
   "execution_count": 1,
   "metadata": {},
   "outputs": [
    {
     "data": {
      "text/html": [
       "    <video width=100% height=100% controls>\n",
       "        <source src='./images/utah-dem-3.mp4'>\n",
       "        Your browser does not support the video tag.\n",
       "    </video>"
      ],
      "text/plain": [
       "<IPython.core.display.HTML object>"
      ]
     },
     "metadata": {},
     "output_type": "display_data"
    }
   ],
   "source": [
    "%%html\n",
    "    <video width=100% height=100% controls>\n",
    "        <source src='./images/utah-dem-3.mp4'>\n",
    "        Your browser does not support the video tag.\n",
    "    </video>"
   ]
  }
 ],
 "metadata": {
  "kernelspec": {
   "display_name": "Python 3",
   "language": "python",
   "name": "python3"
  },
  "language_info": {
   "codemirror_mode": {
    "name": "ipython",
    "version": 3
   },
   "file_extension": ".py",
   "mimetype": "text/x-python",
   "name": "python",
   "nbconvert_exporter": "python",
   "pygments_lexer": "ipython3",
   "version": "3.6.6"
  }
 },
 "nbformat": 4,
 "nbformat_minor": 2
}
