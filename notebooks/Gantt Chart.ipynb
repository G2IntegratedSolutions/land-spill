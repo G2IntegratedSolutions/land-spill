{
 "cells": [
  {
   "cell_type": "markdown",
   "metadata": {},
   "source": [
    "# Gantt Chart"
   ]
  },
  {
   "cell_type": "markdown",
   "metadata": {},
   "source": [
    "To view this notebook with nbviewer, click [here](http://nbviewer.jupyter.org/github/barbagroup/land-spill/blob/gantt-chart/notebooks/Gantt%20Chart.ipynb)."
   ]
  },
  {
   "cell_type": "code",
   "execution_count": 1,
   "metadata": {},
   "outputs": [],
   "source": [
    "import csv\n",
    "import plotly\n",
    "import plotly.figure_factory"
   ]
  },
  {
   "cell_type": "code",
   "execution_count": 2,
   "metadata": {},
   "outputs": [
    {
     "data": {
      "text/html": [
       "<script>requirejs.config({paths: { 'plotly': ['https://cdn.plot.ly/plotly-latest.min']},});if(!window.Plotly) {{require(['plotly'],function(plotly) {window.Plotly=plotly;});}}</script>"
      ],
      "text/vnd.plotly.v1+html": [
       "<script>requirejs.config({paths: { 'plotly': ['https://cdn.plot.ly/plotly-latest.min']},});if(!window.Plotly) {{require(['plotly'],function(plotly) {window.Plotly=plotly;});}}</script>"
      ]
     },
     "metadata": {},
     "output_type": "display_data"
    }
   ],
   "source": [
    "plotly.offline.init_notebook_mode(connected=True)"
   ]
  },
  {
   "cell_type": "code",
   "execution_count": 3,
   "metadata": {},
   "outputs": [],
   "source": [
    "overview = []\n",
    "with open('./data/overview.csv', 'r', newline='') as csvfile:\n",
    "    reader = csv.DictReader(\n",
    "        csvfile, delimiter=',', \n",
    "        fieldnames=['Task', 'Start', 'Finish', 'Resource'])\n",
    "    for row in reader:\n",
    "        overview.append(row)"
   ]
  },
  {
   "cell_type": "code",
   "execution_count": 4,
   "metadata": {},
   "outputs": [],
   "source": [
    "fig1 = plotly.figure_factory.create_gantt(\n",
    "    overview,\n",
    "    title='Gantt Chart - Overview',\n",
    "    index_col='Task',\n",
    "    show_colorbar=True,\n",
    "    showgrid_x=True,\n",
    "    showgrid_y=True,\n",
    "    bar_width=0.5,\n",
    "    group_tasks=True)"
   ]
  },
  {
   "cell_type": "code",
   "execution_count": 5,
   "metadata": {},
   "outputs": [],
   "source": [
    "tasks = []\n",
    "with open('./data/gantt_chart.csv', 'r', newline='') as csvfile:\n",
    "    reader = csv.DictReader(\n",
    "        csvfile, delimiter=',', \n",
    "        fieldnames=['Task', 'Start', 'Finish', 'Resource'])\n",
    "    for row in reader:\n",
    "        tasks.append(row)"
   ]
  },
  {
   "cell_type": "code",
   "execution_count": 6,
   "metadata": {},
   "outputs": [],
   "source": [
    "fig2 = plotly.figure_factory.create_gantt(\n",
    "    tasks, \n",
    "    title='Gantt Chart - Tasks', \n",
    "    index_col='Resource', \n",
    "    show_colorbar=True,\n",
    "    showgrid_x=True,\n",
    "    showgrid_y=True,\n",
    "    bar_width=0.5)"
   ]
  },
  {
   "cell_type": "code",
   "execution_count": 7,
   "metadata": {},
   "outputs": [
    {
     "data": {
      "application/vnd.plotly.v1+json": {
       "data": [
        {
         "marker": {
          "color": "white"
         },
         "name": "",
         "type": "scatter",
         "uid": "d6e81c4e-b6cb-11e8-b846-673abddcbdd4",
         "x": [
          " 2018-09-01",
          " 2018-09-14"
         ],
         "y": [
          3,
          3
         ]
        },
        {
         "marker": {
          "color": "white"
         },
         "name": "",
         "type": "scatter",
         "uid": "d6e81dca-b6cb-11e8-b846-673abddcbdd4",
         "x": [
          " 2018-10-12",
          " 2018-10-20"
         ],
         "y": [
          3,
          3
         ]
        },
        {
         "marker": {
          "color": "white"
         },
         "name": "",
         "type": "scatter",
         "uid": "d6e81e74-b6cb-11e8-b846-673abddcbdd4",
         "x": [
          " 2018-12-26",
          " 2019-01-31"
         ],
         "y": [
          3,
          3
         ]
        },
        {
         "marker": {
          "color": "white"
         },
         "name": "",
         "type": "scatter",
         "uid": "d6e81f0a-b6cb-11e8-b846-673abddcbdd4",
         "x": [
          " 2018-09-10",
          " 2018-11-17"
         ],
         "y": [
          2,
          2
         ]
        },
        {
         "marker": {
          "color": "white"
         },
         "name": "",
         "type": "scatter",
         "uid": "d6e81f8c-b6cb-11e8-b846-673abddcbdd4",
         "x": [
          " 2018-10-25",
          " 2018-12-15"
         ],
         "y": [
          1,
          1
         ]
        },
        {
         "marker": {
          "color": "white"
         },
         "name": "",
         "type": "scatter",
         "uid": "d6e8200e-b6cb-11e8-b846-673abddcbdd4",
         "x": [
          "  2018-12-15",
          " 2019-01-05"
         ],
         "y": [
          0,
          0
         ]
        },
        {
         "hoverinfo": "none",
         "marker": {
          "color": "rgb(31, 119, 180)",
          "size": 1
         },
         "name": "GeoClaw modification",
         "showlegend": true,
         "type": "scatter",
         "uid": "d6e820ae-b6cb-11e8-b846-673abddcbdd4",
         "x": [
          "  2018-12-15",
          "  2018-12-15"
         ],
         "y": [
          0,
          0
         ]
        },
        {
         "hoverinfo": "none",
         "marker": {
          "color": "rgb(255, 127, 14)",
          "size": 1
         },
         "name": "Misc",
         "showlegend": true,
         "type": "scatter",
         "uid": "d6e8211c-b6cb-11e8-b846-673abddcbdd4",
         "x": [
          "  2018-12-15",
          "  2018-12-15"
         ],
         "y": [
          1,
          1
         ]
        },
        {
         "hoverinfo": "none",
         "marker": {
          "color": "rgb(44, 160, 44)",
          "size": 1
         },
         "name": "Performance",
         "showlegend": true,
         "type": "scatter",
         "uid": "d6e8218a-b6cb-11e8-b846-673abddcbdd4",
         "x": [
          "  2018-12-15",
          "  2018-12-15"
         ],
         "y": [
          2,
          2
         ]
        },
        {
         "hoverinfo": "none",
         "marker": {
          "color": "rgb(214, 39, 40)",
          "size": 1
         },
         "name": "Usuability",
         "showlegend": true,
         "type": "scatter",
         "uid": "d6e821f8-b6cb-11e8-b846-673abddcbdd4",
         "x": [
          "  2018-12-15",
          "  2018-12-15"
         ],
         "y": [
          3,
          3
         ]
        }
       ],
       "layout": {
        "height": 600,
        "hovermode": "closest",
        "shapes": [
         {
          "fillcolor": "rgb(255, 127, 14)",
          "line": {
           "width": 0
          },
          "opacity": 1,
          "type": "rect",
          "x0": " 2018-09-01",
          "x1": " 2018-09-14",
          "xref": "x",
          "y0": 2.5,
          "y1": 3.5,
          "yref": "y"
         },
         {
          "fillcolor": "rgb(255, 127, 14)",
          "line": {
           "width": 0
          },
          "opacity": 1,
          "type": "rect",
          "x0": " 2018-10-12",
          "x1": " 2018-10-20",
          "xref": "x",
          "y0": 2.5,
          "y1": 3.5,
          "yref": "y"
         },
         {
          "fillcolor": "rgb(255, 127, 14)",
          "line": {
           "width": 0
          },
          "opacity": 1,
          "type": "rect",
          "x0": " 2018-12-26",
          "x1": " 2019-01-31",
          "xref": "x",
          "y0": 2.5,
          "y1": 3.5,
          "yref": "y"
         },
         {
          "fillcolor": "rgb(31, 119, 180)",
          "line": {
           "width": 0
          },
          "opacity": 1,
          "type": "rect",
          "x0": " 2018-09-10",
          "x1": " 2018-11-17",
          "xref": "x",
          "y0": 1.5,
          "y1": 2.5,
          "yref": "y"
         },
         {
          "fillcolor": "rgb(214, 39, 40)",
          "line": {
           "width": 0
          },
          "opacity": 1,
          "type": "rect",
          "x0": " 2018-10-25",
          "x1": " 2018-12-15",
          "xref": "x",
          "y0": 0.5,
          "y1": 1.5,
          "yref": "y"
         },
         {
          "fillcolor": "rgb(44, 160, 44)",
          "line": {
           "width": 0
          },
          "opacity": 1,
          "type": "rect",
          "x0": "  2018-12-15",
          "x1": " 2019-01-05",
          "xref": "x",
          "y0": -0.5,
          "y1": 0.5,
          "yref": "y"
         }
        ],
        "showlegend": true,
        "title": "Gantt Chart - Overview",
        "width": 900,
        "xaxis": {
         "rangeselector": {
          "buttons": [
           {
            "count": 7,
            "label": "1w",
            "step": "day",
            "stepmode": "backward"
           },
           {
            "count": 1,
            "label": "1m",
            "step": "month",
            "stepmode": "backward"
           },
           {
            "count": 6,
            "label": "6m",
            "step": "month",
            "stepmode": "backward"
           },
           {
            "count": 1,
            "label": "YTD",
            "step": "year",
            "stepmode": "todate"
           },
           {
            "count": 1,
            "label": "1y",
            "step": "year",
            "stepmode": "backward"
           },
           {
            "step": "all"
           }
          ]
         },
         "showgrid": true,
         "type": "date",
         "zeroline": false
        },
        "yaxis": {
         "autorange": false,
         "range": [
          -1,
          5
         ],
         "showgrid": true,
         "ticktext": [
          "Performance",
          "Usuability",
          "GeoClaw modification",
          "Misc"
         ],
         "tickvals": [
          0,
          1,
          2,
          3
         ],
         "zeroline": false
        }
       }
      },
      "text/html": [
       "<div id=\"0823b854-175a-4a96-bc4b-bb8bbf582067\" style=\"height: 600px; width: 900px;\" class=\"plotly-graph-div\"></div><script type=\"text/javascript\">require([\"plotly\"], function(Plotly) { window.PLOTLYENV=window.PLOTLYENV || {};window.PLOTLYENV.BASE_URL=\"https://plot.ly\";Plotly.newPlot(\"0823b854-175a-4a96-bc4b-bb8bbf582067\", [{\"uid\": \"d70062ae-b6cb-11e8-b846-673abddcbdd4\", \"marker\": {\"color\": \"white\"}, \"type\": \"scatter\", \"y\": [3, 3], \"name\": \"\", \"x\": [\" 2018-09-01\", \" 2018-09-14\"]}, {\"uid\": \"d70063c6-b6cb-11e8-b846-673abddcbdd4\", \"marker\": {\"color\": \"white\"}, \"type\": \"scatter\", \"y\": [3, 3], \"name\": \"\", \"x\": [\" 2018-10-12\", \" 2018-10-20\"]}, {\"uid\": \"d700645c-b6cb-11e8-b846-673abddcbdd4\", \"marker\": {\"color\": \"white\"}, \"type\": \"scatter\", \"y\": [3, 3], \"name\": \"\", \"x\": [\" 2018-12-26\", \" 2019-01-31\"]}, {\"uid\": \"d70064d4-b6cb-11e8-b846-673abddcbdd4\", \"marker\": {\"color\": \"white\"}, \"type\": \"scatter\", \"y\": [2, 2], \"name\": \"\", \"x\": [\" 2018-09-10\", \" 2018-11-17\"]}, {\"uid\": \"d700654c-b6cb-11e8-b846-673abddcbdd4\", \"marker\": {\"color\": \"white\"}, \"type\": \"scatter\", \"y\": [1, 1], \"name\": \"\", \"x\": [\" 2018-10-25\", \" 2018-12-15\"]}, {\"uid\": \"d70065ce-b6cb-11e8-b846-673abddcbdd4\", \"marker\": {\"color\": \"white\"}, \"type\": \"scatter\", \"y\": [0, 0], \"name\": \"\", \"x\": [\"  2018-12-15\", \" 2019-01-05\"]}, {\"hoverinfo\": \"none\", \"uid\": \"d7006646-b6cb-11e8-b846-673abddcbdd4\", \"marker\": {\"size\": 1, \"color\": \"rgb(31, 119, 180)\"}, \"type\": \"scatter\", \"y\": [0, 0], \"name\": \"GeoClaw modification\", \"x\": [\"  2018-12-15\", \"  2018-12-15\"], \"showlegend\": true}, {\"hoverinfo\": \"none\", \"uid\": \"d70066b4-b6cb-11e8-b846-673abddcbdd4\", \"marker\": {\"size\": 1, \"color\": \"rgb(255, 127, 14)\"}, \"type\": \"scatter\", \"y\": [1, 1], \"name\": \"Misc\", \"x\": [\"  2018-12-15\", \"  2018-12-15\"], \"showlegend\": true}, {\"hoverinfo\": \"none\", \"uid\": \"d7006718-b6cb-11e8-b846-673abddcbdd4\", \"marker\": {\"size\": 1, \"color\": \"rgb(44, 160, 44)\"}, \"type\": \"scatter\", \"y\": [2, 2], \"name\": \"Performance\", \"x\": [\"  2018-12-15\", \"  2018-12-15\"], \"showlegend\": true}, {\"hoverinfo\": \"none\", \"uid\": \"d700677c-b6cb-11e8-b846-673abddcbdd4\", \"marker\": {\"size\": 1, \"color\": \"rgb(214, 39, 40)\"}, \"type\": \"scatter\", \"y\": [3, 3], \"name\": \"Usuability\", \"x\": [\"  2018-12-15\", \"  2018-12-15\"], \"showlegend\": true}], {\"title\": \"Gantt Chart - Overview\", \"height\": 600, \"yaxis\": {\"tickvals\": [0, 1, 2, 3], \"range\": [-1, 5], \"zeroline\": false, \"showgrid\": true, \"autorange\": false, \"ticktext\": [\"Performance\", \"Usuability\", \"GeoClaw modification\", \"Misc\"]}, \"xaxis\": {\"rangeselector\": {\"buttons\": [{\"stepmode\": \"backward\", \"step\": \"day\", \"count\": 7, \"label\": \"1w\"}, {\"stepmode\": \"backward\", \"step\": \"month\", \"count\": 1, \"label\": \"1m\"}, {\"stepmode\": \"backward\", \"step\": \"month\", \"count\": 6, \"label\": \"6m\"}, {\"stepmode\": \"todate\", \"step\": \"year\", \"count\": 1, \"label\": \"YTD\"}, {\"stepmode\": \"backward\", \"step\": \"year\", \"count\": 1, \"label\": \"1y\"}, {\"step\": \"all\"}]}, \"zeroline\": false, \"showgrid\": true, \"type\": \"date\"}, \"shapes\": [{\"x1\": \" 2018-09-14\", \"fillcolor\": \"rgb(255, 127, 14)\", \"y0\": 2.5, \"xref\": \"x\", \"type\": \"rect\", \"opacity\": 1, \"yref\": \"y\", \"y1\": 3.5, \"x0\": \" 2018-09-01\", \"line\": {\"width\": 0}}, {\"x1\": \" 2018-10-20\", \"fillcolor\": \"rgb(255, 127, 14)\", \"y0\": 2.5, \"xref\": \"x\", \"type\": \"rect\", \"opacity\": 1, \"yref\": \"y\", \"y1\": 3.5, \"x0\": \" 2018-10-12\", \"line\": {\"width\": 0}}, {\"x1\": \" 2019-01-31\", \"fillcolor\": \"rgb(255, 127, 14)\", \"y0\": 2.5, \"xref\": \"x\", \"type\": \"rect\", \"opacity\": 1, \"yref\": \"y\", \"y1\": 3.5, \"x0\": \" 2018-12-26\", \"line\": {\"width\": 0}}, {\"x1\": \" 2018-11-17\", \"fillcolor\": \"rgb(31, 119, 180)\", \"y0\": 1.5, \"xref\": \"x\", \"type\": \"rect\", \"opacity\": 1, \"yref\": \"y\", \"y1\": 2.5, \"x0\": \" 2018-09-10\", \"line\": {\"width\": 0}}, {\"x1\": \" 2018-12-15\", \"fillcolor\": \"rgb(214, 39, 40)\", \"y0\": 0.5, \"xref\": \"x\", \"type\": \"rect\", \"opacity\": 1, \"yref\": \"y\", \"y1\": 1.5, \"x0\": \" 2018-10-25\", \"line\": {\"width\": 0}}, {\"x1\": \" 2019-01-05\", \"fillcolor\": \"rgb(44, 160, 44)\", \"y0\": -0.5, \"xref\": \"x\", \"type\": \"rect\", \"opacity\": 1, \"yref\": \"y\", \"y1\": 0.5, \"x0\": \"  2018-12-15\", \"line\": {\"width\": 0}}], \"width\": 900, \"showlegend\": true, \"hovermode\": \"closest\"}, {\"showLink\": true, \"linkText\": \"Export to plot.ly\"})});</script>"
      ],
      "text/vnd.plotly.v1+html": [
       "<div id=\"0823b854-175a-4a96-bc4b-bb8bbf582067\" style=\"height: 600px; width: 900px;\" class=\"plotly-graph-div\"></div><script type=\"text/javascript\">require([\"plotly\"], function(Plotly) { window.PLOTLYENV=window.PLOTLYENV || {};window.PLOTLYENV.BASE_URL=\"https://plot.ly\";Plotly.newPlot(\"0823b854-175a-4a96-bc4b-bb8bbf582067\", [{\"uid\": \"d70062ae-b6cb-11e8-b846-673abddcbdd4\", \"marker\": {\"color\": \"white\"}, \"type\": \"scatter\", \"y\": [3, 3], \"name\": \"\", \"x\": [\" 2018-09-01\", \" 2018-09-14\"]}, {\"uid\": \"d70063c6-b6cb-11e8-b846-673abddcbdd4\", \"marker\": {\"color\": \"white\"}, \"type\": \"scatter\", \"y\": [3, 3], \"name\": \"\", \"x\": [\" 2018-10-12\", \" 2018-10-20\"]}, {\"uid\": \"d700645c-b6cb-11e8-b846-673abddcbdd4\", \"marker\": {\"color\": \"white\"}, \"type\": \"scatter\", \"y\": [3, 3], \"name\": \"\", \"x\": [\" 2018-12-26\", \" 2019-01-31\"]}, {\"uid\": \"d70064d4-b6cb-11e8-b846-673abddcbdd4\", \"marker\": {\"color\": \"white\"}, \"type\": \"scatter\", \"y\": [2, 2], \"name\": \"\", \"x\": [\" 2018-09-10\", \" 2018-11-17\"]}, {\"uid\": \"d700654c-b6cb-11e8-b846-673abddcbdd4\", \"marker\": {\"color\": \"white\"}, \"type\": \"scatter\", \"y\": [1, 1], \"name\": \"\", \"x\": [\" 2018-10-25\", \" 2018-12-15\"]}, {\"uid\": \"d70065ce-b6cb-11e8-b846-673abddcbdd4\", \"marker\": {\"color\": \"white\"}, \"type\": \"scatter\", \"y\": [0, 0], \"name\": \"\", \"x\": [\"  2018-12-15\", \" 2019-01-05\"]}, {\"hoverinfo\": \"none\", \"uid\": \"d7006646-b6cb-11e8-b846-673abddcbdd4\", \"marker\": {\"size\": 1, \"color\": \"rgb(31, 119, 180)\"}, \"type\": \"scatter\", \"y\": [0, 0], \"name\": \"GeoClaw modification\", \"x\": [\"  2018-12-15\", \"  2018-12-15\"], \"showlegend\": true}, {\"hoverinfo\": \"none\", \"uid\": \"d70066b4-b6cb-11e8-b846-673abddcbdd4\", \"marker\": {\"size\": 1, \"color\": \"rgb(255, 127, 14)\"}, \"type\": \"scatter\", \"y\": [1, 1], \"name\": \"Misc\", \"x\": [\"  2018-12-15\", \"  2018-12-15\"], \"showlegend\": true}, {\"hoverinfo\": \"none\", \"uid\": \"d7006718-b6cb-11e8-b846-673abddcbdd4\", \"marker\": {\"size\": 1, \"color\": \"rgb(44, 160, 44)\"}, \"type\": \"scatter\", \"y\": [2, 2], \"name\": \"Performance\", \"x\": [\"  2018-12-15\", \"  2018-12-15\"], \"showlegend\": true}, {\"hoverinfo\": \"none\", \"uid\": \"d700677c-b6cb-11e8-b846-673abddcbdd4\", \"marker\": {\"size\": 1, \"color\": \"rgb(214, 39, 40)\"}, \"type\": \"scatter\", \"y\": [3, 3], \"name\": \"Usuability\", \"x\": [\"  2018-12-15\", \"  2018-12-15\"], \"showlegend\": true}], {\"title\": \"Gantt Chart - Overview\", \"height\": 600, \"yaxis\": {\"tickvals\": [0, 1, 2, 3], \"range\": [-1, 5], \"zeroline\": false, \"showgrid\": true, \"autorange\": false, \"ticktext\": [\"Performance\", \"Usuability\", \"GeoClaw modification\", \"Misc\"]}, \"xaxis\": {\"rangeselector\": {\"buttons\": [{\"stepmode\": \"backward\", \"step\": \"day\", \"count\": 7, \"label\": \"1w\"}, {\"stepmode\": \"backward\", \"step\": \"month\", \"count\": 1, \"label\": \"1m\"}, {\"stepmode\": \"backward\", \"step\": \"month\", \"count\": 6, \"label\": \"6m\"}, {\"stepmode\": \"todate\", \"step\": \"year\", \"count\": 1, \"label\": \"YTD\"}, {\"stepmode\": \"backward\", \"step\": \"year\", \"count\": 1, \"label\": \"1y\"}, {\"step\": \"all\"}]}, \"zeroline\": false, \"showgrid\": true, \"type\": \"date\"}, \"shapes\": [{\"x1\": \" 2018-09-14\", \"fillcolor\": \"rgb(255, 127, 14)\", \"y0\": 2.5, \"xref\": \"x\", \"type\": \"rect\", \"opacity\": 1, \"yref\": \"y\", \"y1\": 3.5, \"x0\": \" 2018-09-01\", \"line\": {\"width\": 0}}, {\"x1\": \" 2018-10-20\", \"fillcolor\": \"rgb(255, 127, 14)\", \"y0\": 2.5, \"xref\": \"x\", \"type\": \"rect\", \"opacity\": 1, \"yref\": \"y\", \"y1\": 3.5, \"x0\": \" 2018-10-12\", \"line\": {\"width\": 0}}, {\"x1\": \" 2019-01-31\", \"fillcolor\": \"rgb(255, 127, 14)\", \"y0\": 2.5, \"xref\": \"x\", \"type\": \"rect\", \"opacity\": 1, \"yref\": \"y\", \"y1\": 3.5, \"x0\": \" 2018-12-26\", \"line\": {\"width\": 0}}, {\"x1\": \" 2018-11-17\", \"fillcolor\": \"rgb(31, 119, 180)\", \"y0\": 1.5, \"xref\": \"x\", \"type\": \"rect\", \"opacity\": 1, \"yref\": \"y\", \"y1\": 2.5, \"x0\": \" 2018-09-10\", \"line\": {\"width\": 0}}, {\"x1\": \" 2018-12-15\", \"fillcolor\": \"rgb(214, 39, 40)\", \"y0\": 0.5, \"xref\": \"x\", \"type\": \"rect\", \"opacity\": 1, \"yref\": \"y\", \"y1\": 1.5, \"x0\": \" 2018-10-25\", \"line\": {\"width\": 0}}, {\"x1\": \" 2019-01-05\", \"fillcolor\": \"rgb(44, 160, 44)\", \"y0\": -0.5, \"xref\": \"x\", \"type\": \"rect\", \"opacity\": 1, \"yref\": \"y\", \"y1\": 0.5, \"x0\": \"  2018-12-15\", \"line\": {\"width\": 0}}], \"width\": 900, \"showlegend\": true, \"hovermode\": \"closest\"}, {\"showLink\": true, \"linkText\": \"Export to plot.ly\"})});</script>"
      ]
     },
     "metadata": {},
     "output_type": "display_data"
    },
    {
     "data": {
      "application/vnd.plotly.v1+json": {
       "data": [
        {
         "marker": {
          "color": "white"
         },
         "name": "",
         "type": "scatter",
         "uid": "d70ab7c2-b6cb-11e8-b846-673abddcbdd4",
         "x": [
          " 2018-09-01",
          " 2018-09-14"
         ],
         "y": [
          0,
          0
         ]
        },
        {
         "marker": {
          "color": "white"
         },
         "name": "",
         "type": "scatter",
         "uid": "d70ab9d4-b6cb-11e8-b846-673abddcbdd4",
         "x": [
          " 2018-09-10",
          " 2018-09-16"
         ],
         "y": [
          1,
          1
         ]
        },
        {
         "marker": {
          "color": "white"
         },
         "name": "",
         "type": "scatter",
         "uid": "d70abb3c-b6cb-11e8-b846-673abddcbdd4",
         "x": [
          " 2018-09-16",
          " 2018-09-22"
         ],
         "y": [
          2,
          2
         ]
        },
        {
         "marker": {
          "color": "white"
         },
         "name": "",
         "type": "scatter",
         "uid": "d70abc68-b6cb-11e8-b846-673abddcbdd4",
         "x": [
          " 2018-09-22",
          " 2018-09-30"
         ],
         "y": [
          3,
          3
         ]
        },
        {
         "marker": {
          "color": "white"
         },
         "name": "",
         "type": "scatter",
         "uid": "d70abd8a-b6cb-11e8-b846-673abddcbdd4",
         "x": [
          " 2018-09-30",
          " 2018-10-02"
         ],
         "y": [
          4,
          4
         ]
        },
        {
         "marker": {
          "color": "white"
         },
         "name": "",
         "type": "scatter",
         "uid": "d70abed4-b6cb-11e8-b846-673abddcbdd4",
         "x": [
          " 2018-10-02",
          " 2018-10-05"
         ],
         "y": [
          5,
          5
         ]
        },
        {
         "marker": {
          "color": "white"
         },
         "name": "",
         "type": "scatter",
         "uid": "d70ac014-b6cb-11e8-b846-673abddcbdd4",
         "x": [
          " 2018-10-05",
          " 2018-10-20"
         ],
         "y": [
          6,
          6
         ]
        },
        {
         "marker": {
          "color": "white"
         },
         "name": "",
         "type": "scatter",
         "uid": "d70ac140-b6cb-11e8-b846-673abddcbdd4",
         "x": [
          " 2018-10-12",
          " 2018-10-20"
         ],
         "y": [
          7,
          7
         ]
        },
        {
         "marker": {
          "color": "white"
         },
         "name": "",
         "type": "scatter",
         "uid": "d70ac244-b6cb-11e8-b846-673abddcbdd4",
         "x": [
          " 2018-10-20",
          " 2018-11-03"
         ],
         "y": [
          8,
          8
         ]
        },
        {
         "marker": {
          "color": "white"
         },
         "name": "",
         "type": "scatter",
         "uid": "d70ac366-b6cb-11e8-b846-673abddcbdd4",
         "x": [
          " 2018-11-03",
          " 2018-11-17"
         ],
         "y": [
          9,
          9
         ]
        },
        {
         "marker": {
          "color": "white"
         },
         "name": "",
         "type": "scatter",
         "uid": "d70ac46a-b6cb-11e8-b846-673abddcbdd4",
         "x": [
          " 2018-10-25",
          " 2018-11-03"
         ],
         "y": [
          10,
          10
         ]
        },
        {
         "marker": {
          "color": "white"
         },
         "name": "",
         "type": "scatter",
         "uid": "d70ac55a-b6cb-11e8-b846-673abddcbdd4",
         "x": [
          " 2018-11-03",
          " 2018-11-21"
         ],
         "y": [
          11,
          11
         ]
        },
        {
         "marker": {
          "color": "white"
         },
         "name": "",
         "type": "scatter",
         "uid": "d70ac69a-b6cb-11e8-b846-673abddcbdd4",
         "x": [
          " 2018-11-21",
          " 2018-12-05"
         ],
         "y": [
          12,
          12
         ]
        },
        {
         "marker": {
          "color": "white"
         },
         "name": "",
         "type": "scatter",
         "uid": "d70ac7d0-b6cb-11e8-b846-673abddcbdd4",
         "x": [
          " 2018-12-05",
          " 2018-12-15"
         ],
         "y": [
          13,
          13
         ]
        },
        {
         "marker": {
          "color": "white"
         },
         "name": "",
         "type": "scatter",
         "uid": "d70ac8f2-b6cb-11e8-b846-673abddcbdd4",
         "x": [
          " 2018-12-15",
          " 2019-01-05"
         ],
         "y": [
          14,
          14
         ]
        },
        {
         "marker": {
          "color": "white"
         },
         "name": "",
         "type": "scatter",
         "uid": "d70ac9f6-b6cb-11e8-b846-673abddcbdd4",
         "x": [
          " 2018-12-26",
          " 2019-01-15"
         ],
         "y": [
          15,
          15
         ]
        },
        {
         "marker": {
          "color": "white"
         },
         "name": "",
         "type": "scatter",
         "uid": "d70acae6-b6cb-11e8-b846-673abddcbdd4",
         "x": [
          " 2019-01-15",
          " 2019-01-31"
         ],
         "y": [
          16,
          16
         ]
        },
        {
         "hoverinfo": "none",
         "marker": {
          "color": "rgb(31, 119, 180)",
          "size": 1
         },
         "name": " GeoClaw modification",
         "showlegend": true,
         "type": "scatter",
         "uid": "d70acbe0-b6cb-11e8-b846-673abddcbdd4",
         "x": [
          " 2019-01-15",
          " 2019-01-15"
         ],
         "y": [
          0,
          0
         ]
        },
        {
         "hoverinfo": "none",
         "marker": {
          "color": "rgb(255, 127, 14)",
          "size": 1
         },
         "name": " Misc",
         "showlegend": true,
         "type": "scatter",
         "uid": "d70accc6-b6cb-11e8-b846-673abddcbdd4",
         "x": [
          " 2019-01-15",
          " 2019-01-15"
         ],
         "y": [
          1,
          1
         ]
        },
        {
         "hoverinfo": "none",
         "marker": {
          "color": "rgb(44, 160, 44)",
          "size": 1
         },
         "name": " Performance",
         "showlegend": true,
         "type": "scatter",
         "uid": "d70acdc0-b6cb-11e8-b846-673abddcbdd4",
         "x": [
          " 2019-01-15",
          " 2019-01-15"
         ],
         "y": [
          2,
          2
         ]
        },
        {
         "hoverinfo": "none",
         "marker": {
          "color": "rgb(214, 39, 40)",
          "size": 1
         },
         "name": " Usability",
         "showlegend": true,
         "type": "scatter",
         "uid": "d70aceec-b6cb-11e8-b846-673abddcbdd4",
         "x": [
          " 2019-01-15",
          " 2019-01-15"
         ],
         "y": [
          3,
          3
         ]
        }
       ],
       "layout": {
        "height": 600,
        "hovermode": "closest",
        "shapes": [
         {
          "fillcolor": "rgb(255, 127, 14)",
          "line": {
           "width": 0
          },
          "opacity": 1,
          "type": "rect",
          "x0": " 2018-09-01",
          "x1": " 2018-09-14",
          "xref": "x",
          "y0": -0.5,
          "y1": 0.5,
          "yref": "y"
         },
         {
          "fillcolor": "rgb(31, 119, 180)",
          "line": {
           "width": 0
          },
          "opacity": 1,
          "type": "rect",
          "x0": " 2018-09-10",
          "x1": " 2018-09-16",
          "xref": "x",
          "y0": 0.5,
          "y1": 1.5,
          "yref": "y"
         },
         {
          "fillcolor": "rgb(31, 119, 180)",
          "line": {
           "width": 0
          },
          "opacity": 1,
          "type": "rect",
          "x0": " 2018-09-16",
          "x1": " 2018-09-22",
          "xref": "x",
          "y0": 1.5,
          "y1": 2.5,
          "yref": "y"
         },
         {
          "fillcolor": "rgb(31, 119, 180)",
          "line": {
           "width": 0
          },
          "opacity": 1,
          "type": "rect",
          "x0": " 2018-09-22",
          "x1": " 2018-09-30",
          "xref": "x",
          "y0": 2.5,
          "y1": 3.5,
          "yref": "y"
         },
         {
          "fillcolor": "rgb(31, 119, 180)",
          "line": {
           "width": 0
          },
          "opacity": 1,
          "type": "rect",
          "x0": " 2018-09-30",
          "x1": " 2018-10-02",
          "xref": "x",
          "y0": 3.5,
          "y1": 4.5,
          "yref": "y"
         },
         {
          "fillcolor": "rgb(31, 119, 180)",
          "line": {
           "width": 0
          },
          "opacity": 1,
          "type": "rect",
          "x0": " 2018-10-02",
          "x1": " 2018-10-05",
          "xref": "x",
          "y0": 4.5,
          "y1": 5.5,
          "yref": "y"
         },
         {
          "fillcolor": "rgb(31, 119, 180)",
          "line": {
           "width": 0
          },
          "opacity": 1,
          "type": "rect",
          "x0": " 2018-10-05",
          "x1": " 2018-10-20",
          "xref": "x",
          "y0": 5.5,
          "y1": 6.5,
          "yref": "y"
         },
         {
          "fillcolor": "rgb(255, 127, 14)",
          "line": {
           "width": 0
          },
          "opacity": 1,
          "type": "rect",
          "x0": " 2018-10-12",
          "x1": " 2018-10-20",
          "xref": "x",
          "y0": 6.5,
          "y1": 7.5,
          "yref": "y"
         },
         {
          "fillcolor": "rgb(31, 119, 180)",
          "line": {
           "width": 0
          },
          "opacity": 1,
          "type": "rect",
          "x0": " 2018-10-20",
          "x1": " 2018-11-03",
          "xref": "x",
          "y0": 7.5,
          "y1": 8.5,
          "yref": "y"
         },
         {
          "fillcolor": "rgb(31, 119, 180)",
          "line": {
           "width": 0
          },
          "opacity": 1,
          "type": "rect",
          "x0": " 2018-11-03",
          "x1": " 2018-11-17",
          "xref": "x",
          "y0": 8.5,
          "y1": 9.5,
          "yref": "y"
         },
         {
          "fillcolor": "rgb(214, 39, 40)",
          "line": {
           "width": 0
          },
          "opacity": 1,
          "type": "rect",
          "x0": " 2018-10-25",
          "x1": " 2018-11-03",
          "xref": "x",
          "y0": 9.5,
          "y1": 10.5,
          "yref": "y"
         },
         {
          "fillcolor": "rgb(214, 39, 40)",
          "line": {
           "width": 0
          },
          "opacity": 1,
          "type": "rect",
          "x0": " 2018-11-03",
          "x1": " 2018-11-21",
          "xref": "x",
          "y0": 10.5,
          "y1": 11.5,
          "yref": "y"
         },
         {
          "fillcolor": "rgb(214, 39, 40)",
          "line": {
           "width": 0
          },
          "opacity": 1,
          "type": "rect",
          "x0": " 2018-11-21",
          "x1": " 2018-12-05",
          "xref": "x",
          "y0": 11.5,
          "y1": 12.5,
          "yref": "y"
         },
         {
          "fillcolor": "rgb(214, 39, 40)",
          "line": {
           "width": 0
          },
          "opacity": 1,
          "type": "rect",
          "x0": " 2018-12-05",
          "x1": " 2018-12-15",
          "xref": "x",
          "y0": 12.5,
          "y1": 13.5,
          "yref": "y"
         },
         {
          "fillcolor": "rgb(44, 160, 44)",
          "line": {
           "width": 0
          },
          "opacity": 1,
          "type": "rect",
          "x0": " 2018-12-15",
          "x1": " 2019-01-05",
          "xref": "x",
          "y0": 13.5,
          "y1": 14.5,
          "yref": "y"
         },
         {
          "fillcolor": "rgb(255, 127, 14)",
          "line": {
           "width": 0
          },
          "opacity": 1,
          "type": "rect",
          "x0": " 2018-12-26",
          "x1": " 2019-01-15",
          "xref": "x",
          "y0": 14.5,
          "y1": 15.5,
          "yref": "y"
         },
         {
          "fillcolor": "rgb(255, 127, 14)",
          "line": {
           "width": 0
          },
          "opacity": 1,
          "type": "rect",
          "x0": " 2019-01-15",
          "x1": " 2019-01-31",
          "xref": "x",
          "y0": 15.5,
          "y1": 16.5,
          "yref": "y"
         }
        ],
        "showlegend": true,
        "title": "Gantt Chart - Tasks",
        "width": 900,
        "xaxis": {
         "rangeselector": {
          "buttons": [
           {
            "count": 7,
            "label": "1w",
            "step": "day",
            "stepmode": "backward"
           },
           {
            "count": 1,
            "label": "1m",
            "step": "month",
            "stepmode": "backward"
           },
           {
            "count": 6,
            "label": "6m",
            "step": "month",
            "stepmode": "backward"
           },
           {
            "count": 1,
            "label": "YTD",
            "step": "year",
            "stepmode": "todate"
           },
           {
            "count": 1,
            "label": "1y",
            "step": "year",
            "stepmode": "backward"
           },
           {
            "step": "all"
           }
          ]
         },
         "showgrid": true,
         "type": "date",
         "zeroline": false
        },
        "yaxis": {
         "autorange": false,
         "range": [
          -1,
          18
         ],
         "showgrid": true,
         "ticktext": [
          "Preparation and kick-off",
          "Point sources (spec. 1.3)",
          "Darcy-Weisbach friction (spec. 1.1)",
          "Contact with hydrologic features (spec. 1.2)",
          "Physical properties (spec 1.4)",
          "Outflow BC (spec. 1.5)",
          "NetCDF I/O (spec. 3.6 3.9 3.10)",
          "Preliminary tests/validation",
          "Evaporation model (spec. 1.6)",
          "Infiltration model (spec. 1.6)",
          "User-friendly configuration (spec. 3.1 3.2)",
          "Microsoft Azure (spec. 3.8)",
          "Jupyter notebook integration (spec. 3.3)",
          "Windows workflow (spec. 3.11)",
          "Performance Optimization (spec. 2.2 2.3 2.4)",
          "Tests/validation",
          "Achievement review and report"
         ],
         "tickvals": [
          0,
          1,
          2,
          3,
          4,
          5,
          6,
          7,
          8,
          9,
          10,
          11,
          12,
          13,
          14,
          15,
          16
         ],
         "zeroline": false
        }
       }
      },
      "text/html": [
       "<div id=\"19adb5f7-acf5-4274-ab09-69d2e93a99b0\" style=\"height: 600px; width: 900px;\" class=\"plotly-graph-div\"></div><script type=\"text/javascript\">require([\"plotly\"], function(Plotly) { window.PLOTLYENV=window.PLOTLYENV || {};window.PLOTLYENV.BASE_URL=\"https://plot.ly\";Plotly.newPlot(\"19adb5f7-acf5-4274-ab09-69d2e93a99b0\", [{\"uid\": \"d715cd4c-b6cb-11e8-b846-673abddcbdd4\", \"marker\": {\"color\": \"white\"}, \"type\": \"scatter\", \"y\": [0, 0], \"name\": \"\", \"x\": [\" 2018-09-01\", \" 2018-09-14\"]}, {\"uid\": \"d715ce78-b6cb-11e8-b846-673abddcbdd4\", \"marker\": {\"color\": \"white\"}, \"type\": \"scatter\", \"y\": [1, 1], \"name\": \"\", \"x\": [\" 2018-09-10\", \" 2018-09-16\"]}, {\"uid\": \"d715cf2c-b6cb-11e8-b846-673abddcbdd4\", \"marker\": {\"color\": \"white\"}, \"type\": \"scatter\", \"y\": [2, 2], \"name\": \"\", \"x\": [\" 2018-09-16\", \" 2018-09-22\"]}, {\"uid\": \"d715cfae-b6cb-11e8-b846-673abddcbdd4\", \"marker\": {\"color\": \"white\"}, \"type\": \"scatter\", \"y\": [3, 3], \"name\": \"\", \"x\": [\" 2018-09-22\", \" 2018-09-30\"]}, {\"uid\": \"d715d026-b6cb-11e8-b846-673abddcbdd4\", \"marker\": {\"color\": \"white\"}, \"type\": \"scatter\", \"y\": [4, 4], \"name\": \"\", \"x\": [\" 2018-09-30\", \" 2018-10-02\"]}, {\"uid\": \"d715d094-b6cb-11e8-b846-673abddcbdd4\", \"marker\": {\"color\": \"white\"}, \"type\": \"scatter\", \"y\": [5, 5], \"name\": \"\", \"x\": [\" 2018-10-02\", \" 2018-10-05\"]}, {\"uid\": \"d715d102-b6cb-11e8-b846-673abddcbdd4\", \"marker\": {\"color\": \"white\"}, \"type\": \"scatter\", \"y\": [6, 6], \"name\": \"\", \"x\": [\" 2018-10-05\", \" 2018-10-20\"]}, {\"uid\": \"d715d170-b6cb-11e8-b846-673abddcbdd4\", \"marker\": {\"color\": \"white\"}, \"type\": \"scatter\", \"y\": [7, 7], \"name\": \"\", \"x\": [\" 2018-10-12\", \" 2018-10-20\"]}, {\"uid\": \"d715d1de-b6cb-11e8-b846-673abddcbdd4\", \"marker\": {\"color\": \"white\"}, \"type\": \"scatter\", \"y\": [8, 8], \"name\": \"\", \"x\": [\" 2018-10-20\", \" 2018-11-03\"]}, {\"uid\": \"d715d242-b6cb-11e8-b846-673abddcbdd4\", \"marker\": {\"color\": \"white\"}, \"type\": \"scatter\", \"y\": [9, 9], \"name\": \"\", \"x\": [\" 2018-11-03\", \" 2018-11-17\"]}, {\"uid\": \"d715d2b0-b6cb-11e8-b846-673abddcbdd4\", \"marker\": {\"color\": \"white\"}, \"type\": \"scatter\", \"y\": [10, 10], \"name\": \"\", \"x\": [\" 2018-10-25\", \" 2018-11-03\"]}, {\"uid\": \"d715d328-b6cb-11e8-b846-673abddcbdd4\", \"marker\": {\"color\": \"white\"}, \"type\": \"scatter\", \"y\": [11, 11], \"name\": \"\", \"x\": [\" 2018-11-03\", \" 2018-11-21\"]}, {\"uid\": \"d715d396-b6cb-11e8-b846-673abddcbdd4\", \"marker\": {\"color\": \"white\"}, \"type\": \"scatter\", \"y\": [12, 12], \"name\": \"\", \"x\": [\" 2018-11-21\", \" 2018-12-05\"]}, {\"uid\": \"d715d404-b6cb-11e8-b846-673abddcbdd4\", \"marker\": {\"color\": \"white\"}, \"type\": \"scatter\", \"y\": [13, 13], \"name\": \"\", \"x\": [\" 2018-12-05\", \" 2018-12-15\"]}, {\"uid\": \"d715d472-b6cb-11e8-b846-673abddcbdd4\", \"marker\": {\"color\": \"white\"}, \"type\": \"scatter\", \"y\": [14, 14], \"name\": \"\", \"x\": [\" 2018-12-15\", \" 2019-01-05\"]}, {\"uid\": \"d715d4d6-b6cb-11e8-b846-673abddcbdd4\", \"marker\": {\"color\": \"white\"}, \"type\": \"scatter\", \"y\": [15, 15], \"name\": \"\", \"x\": [\" 2018-12-26\", \" 2019-01-15\"]}, {\"uid\": \"d715d544-b6cb-11e8-b846-673abddcbdd4\", \"marker\": {\"color\": \"white\"}, \"type\": \"scatter\", \"y\": [16, 16], \"name\": \"\", \"x\": [\" 2019-01-15\", \" 2019-01-31\"]}, {\"hoverinfo\": \"none\", \"uid\": \"d715d5a8-b6cb-11e8-b846-673abddcbdd4\", \"marker\": {\"size\": 1, \"color\": \"rgb(31, 119, 180)\"}, \"type\": \"scatter\", \"y\": [0, 0], \"name\": \" GeoClaw modification\", \"x\": [\" 2019-01-15\", \" 2019-01-15\"], \"showlegend\": true}, {\"hoverinfo\": \"none\", \"uid\": \"d715d616-b6cb-11e8-b846-673abddcbdd4\", \"marker\": {\"size\": 1, \"color\": \"rgb(255, 127, 14)\"}, \"type\": \"scatter\", \"y\": [1, 1], \"name\": \" Misc\", \"x\": [\" 2019-01-15\", \" 2019-01-15\"], \"showlegend\": true}, {\"hoverinfo\": \"none\", \"uid\": \"d715d67a-b6cb-11e8-b846-673abddcbdd4\", \"marker\": {\"size\": 1, \"color\": \"rgb(44, 160, 44)\"}, \"type\": \"scatter\", \"y\": [2, 2], \"name\": \" Performance\", \"x\": [\" 2019-01-15\", \" 2019-01-15\"], \"showlegend\": true}, {\"hoverinfo\": \"none\", \"uid\": \"d715d6de-b6cb-11e8-b846-673abddcbdd4\", \"marker\": {\"size\": 1, \"color\": \"rgb(214, 39, 40)\"}, \"type\": \"scatter\", \"y\": [3, 3], \"name\": \" Usability\", \"x\": [\" 2019-01-15\", \" 2019-01-15\"], \"showlegend\": true}], {\"title\": \"Gantt Chart - Tasks\", \"height\": 600, \"yaxis\": {\"tickvals\": [0, 1, 2, 3, 4, 5, 6, 7, 8, 9, 10, 11, 12, 13, 14, 15, 16], \"range\": [-1, 18], \"zeroline\": false, \"showgrid\": true, \"autorange\": false, \"ticktext\": [\"Preparation and kick-off\", \"Point sources (spec. 1.3)\", \"Darcy-Weisbach friction (spec. 1.1)\", \"Contact with hydrologic features (spec. 1.2)\", \"Physical properties (spec 1.4)\", \"Outflow BC (spec. 1.5)\", \"NetCDF I/O (spec. 3.6 3.9 3.10)\", \"Preliminary tests/validation\", \"Evaporation model (spec. 1.6)\", \"Infiltration model (spec. 1.6)\", \"User-friendly configuration (spec. 3.1 3.2)\", \"Microsoft Azure (spec. 3.8)\", \"Jupyter notebook integration (spec. 3.3)\", \"Windows workflow (spec. 3.11)\", \"Performance Optimization (spec. 2.2 2.3 2.4)\", \"Tests/validation\", \"Achievement review and report\"]}, \"xaxis\": {\"rangeselector\": {\"buttons\": [{\"stepmode\": \"backward\", \"step\": \"day\", \"count\": 7, \"label\": \"1w\"}, {\"stepmode\": \"backward\", \"step\": \"month\", \"count\": 1, \"label\": \"1m\"}, {\"stepmode\": \"backward\", \"step\": \"month\", \"count\": 6, \"label\": \"6m\"}, {\"stepmode\": \"todate\", \"step\": \"year\", \"count\": 1, \"label\": \"YTD\"}, {\"stepmode\": \"backward\", \"step\": \"year\", \"count\": 1, \"label\": \"1y\"}, {\"step\": \"all\"}]}, \"zeroline\": false, \"showgrid\": true, \"type\": \"date\"}, \"shapes\": [{\"x1\": \" 2018-09-14\", \"fillcolor\": \"rgb(255, 127, 14)\", \"y0\": -0.5, \"xref\": \"x\", \"type\": \"rect\", \"opacity\": 1, \"yref\": \"y\", \"y1\": 0.5, \"x0\": \" 2018-09-01\", \"line\": {\"width\": 0}}, {\"x1\": \" 2018-09-16\", \"fillcolor\": \"rgb(31, 119, 180)\", \"y0\": 0.5, \"xref\": \"x\", \"type\": \"rect\", \"opacity\": 1, \"yref\": \"y\", \"y1\": 1.5, \"x0\": \" 2018-09-10\", \"line\": {\"width\": 0}}, {\"x1\": \" 2018-09-22\", \"fillcolor\": \"rgb(31, 119, 180)\", \"y0\": 1.5, \"xref\": \"x\", \"type\": \"rect\", \"opacity\": 1, \"yref\": \"y\", \"y1\": 2.5, \"x0\": \" 2018-09-16\", \"line\": {\"width\": 0}}, {\"x1\": \" 2018-09-30\", \"fillcolor\": \"rgb(31, 119, 180)\", \"y0\": 2.5, \"xref\": \"x\", \"type\": \"rect\", \"opacity\": 1, \"yref\": \"y\", \"y1\": 3.5, \"x0\": \" 2018-09-22\", \"line\": {\"width\": 0}}, {\"x1\": \" 2018-10-02\", \"fillcolor\": \"rgb(31, 119, 180)\", \"y0\": 3.5, \"xref\": \"x\", \"type\": \"rect\", \"opacity\": 1, \"yref\": \"y\", \"y1\": 4.5, \"x0\": \" 2018-09-30\", \"line\": {\"width\": 0}}, {\"x1\": \" 2018-10-05\", \"fillcolor\": \"rgb(31, 119, 180)\", \"y0\": 4.5, \"xref\": \"x\", \"type\": \"rect\", \"opacity\": 1, \"yref\": \"y\", \"y1\": 5.5, \"x0\": \" 2018-10-02\", \"line\": {\"width\": 0}}, {\"x1\": \" 2018-10-20\", \"fillcolor\": \"rgb(31, 119, 180)\", \"y0\": 5.5, \"xref\": \"x\", \"type\": \"rect\", \"opacity\": 1, \"yref\": \"y\", \"y1\": 6.5, \"x0\": \" 2018-10-05\", \"line\": {\"width\": 0}}, {\"x1\": \" 2018-10-20\", \"fillcolor\": \"rgb(255, 127, 14)\", \"y0\": 6.5, \"xref\": \"x\", \"type\": \"rect\", \"opacity\": 1, \"yref\": \"y\", \"y1\": 7.5, \"x0\": \" 2018-10-12\", \"line\": {\"width\": 0}}, {\"x1\": \" 2018-11-03\", \"fillcolor\": \"rgb(31, 119, 180)\", \"y0\": 7.5, \"xref\": \"x\", \"type\": \"rect\", \"opacity\": 1, \"yref\": \"y\", \"y1\": 8.5, \"x0\": \" 2018-10-20\", \"line\": {\"width\": 0}}, {\"x1\": \" 2018-11-17\", \"fillcolor\": \"rgb(31, 119, 180)\", \"y0\": 8.5, \"xref\": \"x\", \"type\": \"rect\", \"opacity\": 1, \"yref\": \"y\", \"y1\": 9.5, \"x0\": \" 2018-11-03\", \"line\": {\"width\": 0}}, {\"x1\": \" 2018-11-03\", \"fillcolor\": \"rgb(214, 39, 40)\", \"y0\": 9.5, \"xref\": \"x\", \"type\": \"rect\", \"opacity\": 1, \"yref\": \"y\", \"y1\": 10.5, \"x0\": \" 2018-10-25\", \"line\": {\"width\": 0}}, {\"x1\": \" 2018-11-21\", \"fillcolor\": \"rgb(214, 39, 40)\", \"y0\": 10.5, \"xref\": \"x\", \"type\": \"rect\", \"opacity\": 1, \"yref\": \"y\", \"y1\": 11.5, \"x0\": \" 2018-11-03\", \"line\": {\"width\": 0}}, {\"x1\": \" 2018-12-05\", \"fillcolor\": \"rgb(214, 39, 40)\", \"y0\": 11.5, \"xref\": \"x\", \"type\": \"rect\", \"opacity\": 1, \"yref\": \"y\", \"y1\": 12.5, \"x0\": \" 2018-11-21\", \"line\": {\"width\": 0}}, {\"x1\": \" 2018-12-15\", \"fillcolor\": \"rgb(214, 39, 40)\", \"y0\": 12.5, \"xref\": \"x\", \"type\": \"rect\", \"opacity\": 1, \"yref\": \"y\", \"y1\": 13.5, \"x0\": \" 2018-12-05\", \"line\": {\"width\": 0}}, {\"x1\": \" 2019-01-05\", \"fillcolor\": \"rgb(44, 160, 44)\", \"y0\": 13.5, \"xref\": \"x\", \"type\": \"rect\", \"opacity\": 1, \"yref\": \"y\", \"y1\": 14.5, \"x0\": \" 2018-12-15\", \"line\": {\"width\": 0}}, {\"x1\": \" 2019-01-15\", \"fillcolor\": \"rgb(255, 127, 14)\", \"y0\": 14.5, \"xref\": \"x\", \"type\": \"rect\", \"opacity\": 1, \"yref\": \"y\", \"y1\": 15.5, \"x0\": \" 2018-12-26\", \"line\": {\"width\": 0}}, {\"x1\": \" 2019-01-31\", \"fillcolor\": \"rgb(255, 127, 14)\", \"y0\": 15.5, \"xref\": \"x\", \"type\": \"rect\", \"opacity\": 1, \"yref\": \"y\", \"y1\": 16.5, \"x0\": \" 2019-01-15\", \"line\": {\"width\": 0}}], \"width\": 900, \"showlegend\": true, \"hovermode\": \"closest\"}, {\"showLink\": true, \"linkText\": \"Export to plot.ly\"})});</script>"
      ],
      "text/vnd.plotly.v1+html": [
       "<div id=\"19adb5f7-acf5-4274-ab09-69d2e93a99b0\" style=\"height: 600px; width: 900px;\" class=\"plotly-graph-div\"></div><script type=\"text/javascript\">require([\"plotly\"], function(Plotly) { window.PLOTLYENV=window.PLOTLYENV || {};window.PLOTLYENV.BASE_URL=\"https://plot.ly\";Plotly.newPlot(\"19adb5f7-acf5-4274-ab09-69d2e93a99b0\", [{\"uid\": \"d715cd4c-b6cb-11e8-b846-673abddcbdd4\", \"marker\": {\"color\": \"white\"}, \"type\": \"scatter\", \"y\": [0, 0], \"name\": \"\", \"x\": [\" 2018-09-01\", \" 2018-09-14\"]}, {\"uid\": \"d715ce78-b6cb-11e8-b846-673abddcbdd4\", \"marker\": {\"color\": \"white\"}, \"type\": \"scatter\", \"y\": [1, 1], \"name\": \"\", \"x\": [\" 2018-09-10\", \" 2018-09-16\"]}, {\"uid\": \"d715cf2c-b6cb-11e8-b846-673abddcbdd4\", \"marker\": {\"color\": \"white\"}, \"type\": \"scatter\", \"y\": [2, 2], \"name\": \"\", \"x\": [\" 2018-09-16\", \" 2018-09-22\"]}, {\"uid\": \"d715cfae-b6cb-11e8-b846-673abddcbdd4\", \"marker\": {\"color\": \"white\"}, \"type\": \"scatter\", \"y\": [3, 3], \"name\": \"\", \"x\": [\" 2018-09-22\", \" 2018-09-30\"]}, {\"uid\": \"d715d026-b6cb-11e8-b846-673abddcbdd4\", \"marker\": {\"color\": \"white\"}, \"type\": \"scatter\", \"y\": [4, 4], \"name\": \"\", \"x\": [\" 2018-09-30\", \" 2018-10-02\"]}, {\"uid\": \"d715d094-b6cb-11e8-b846-673abddcbdd4\", \"marker\": {\"color\": \"white\"}, \"type\": \"scatter\", \"y\": [5, 5], \"name\": \"\", \"x\": [\" 2018-10-02\", \" 2018-10-05\"]}, {\"uid\": \"d715d102-b6cb-11e8-b846-673abddcbdd4\", \"marker\": {\"color\": \"white\"}, \"type\": \"scatter\", \"y\": [6, 6], \"name\": \"\", \"x\": [\" 2018-10-05\", \" 2018-10-20\"]}, {\"uid\": \"d715d170-b6cb-11e8-b846-673abddcbdd4\", \"marker\": {\"color\": \"white\"}, \"type\": \"scatter\", \"y\": [7, 7], \"name\": \"\", \"x\": [\" 2018-10-12\", \" 2018-10-20\"]}, {\"uid\": \"d715d1de-b6cb-11e8-b846-673abddcbdd4\", \"marker\": {\"color\": \"white\"}, \"type\": \"scatter\", \"y\": [8, 8], \"name\": \"\", \"x\": [\" 2018-10-20\", \" 2018-11-03\"]}, {\"uid\": \"d715d242-b6cb-11e8-b846-673abddcbdd4\", \"marker\": {\"color\": \"white\"}, \"type\": \"scatter\", \"y\": [9, 9], \"name\": \"\", \"x\": [\" 2018-11-03\", \" 2018-11-17\"]}, {\"uid\": \"d715d2b0-b6cb-11e8-b846-673abddcbdd4\", \"marker\": {\"color\": \"white\"}, \"type\": \"scatter\", \"y\": [10, 10], \"name\": \"\", \"x\": [\" 2018-10-25\", \" 2018-11-03\"]}, {\"uid\": \"d715d328-b6cb-11e8-b846-673abddcbdd4\", \"marker\": {\"color\": \"white\"}, \"type\": \"scatter\", \"y\": [11, 11], \"name\": \"\", \"x\": [\" 2018-11-03\", \" 2018-11-21\"]}, {\"uid\": \"d715d396-b6cb-11e8-b846-673abddcbdd4\", \"marker\": {\"color\": \"white\"}, \"type\": \"scatter\", \"y\": [12, 12], \"name\": \"\", \"x\": [\" 2018-11-21\", \" 2018-12-05\"]}, {\"uid\": \"d715d404-b6cb-11e8-b846-673abddcbdd4\", \"marker\": {\"color\": \"white\"}, \"type\": \"scatter\", \"y\": [13, 13], \"name\": \"\", \"x\": [\" 2018-12-05\", \" 2018-12-15\"]}, {\"uid\": \"d715d472-b6cb-11e8-b846-673abddcbdd4\", \"marker\": {\"color\": \"white\"}, \"type\": \"scatter\", \"y\": [14, 14], \"name\": \"\", \"x\": [\" 2018-12-15\", \" 2019-01-05\"]}, {\"uid\": \"d715d4d6-b6cb-11e8-b846-673abddcbdd4\", \"marker\": {\"color\": \"white\"}, \"type\": \"scatter\", \"y\": [15, 15], \"name\": \"\", \"x\": [\" 2018-12-26\", \" 2019-01-15\"]}, {\"uid\": \"d715d544-b6cb-11e8-b846-673abddcbdd4\", \"marker\": {\"color\": \"white\"}, \"type\": \"scatter\", \"y\": [16, 16], \"name\": \"\", \"x\": [\" 2019-01-15\", \" 2019-01-31\"]}, {\"hoverinfo\": \"none\", \"uid\": \"d715d5a8-b6cb-11e8-b846-673abddcbdd4\", \"marker\": {\"size\": 1, \"color\": \"rgb(31, 119, 180)\"}, \"type\": \"scatter\", \"y\": [0, 0], \"name\": \" GeoClaw modification\", \"x\": [\" 2019-01-15\", \" 2019-01-15\"], \"showlegend\": true}, {\"hoverinfo\": \"none\", \"uid\": \"d715d616-b6cb-11e8-b846-673abddcbdd4\", \"marker\": {\"size\": 1, \"color\": \"rgb(255, 127, 14)\"}, \"type\": \"scatter\", \"y\": [1, 1], \"name\": \" Misc\", \"x\": [\" 2019-01-15\", \" 2019-01-15\"], \"showlegend\": true}, {\"hoverinfo\": \"none\", \"uid\": \"d715d67a-b6cb-11e8-b846-673abddcbdd4\", \"marker\": {\"size\": 1, \"color\": \"rgb(44, 160, 44)\"}, \"type\": \"scatter\", \"y\": [2, 2], \"name\": \" Performance\", \"x\": [\" 2019-01-15\", \" 2019-01-15\"], \"showlegend\": true}, {\"hoverinfo\": \"none\", \"uid\": \"d715d6de-b6cb-11e8-b846-673abddcbdd4\", \"marker\": {\"size\": 1, \"color\": \"rgb(214, 39, 40)\"}, \"type\": \"scatter\", \"y\": [3, 3], \"name\": \" Usability\", \"x\": [\" 2019-01-15\", \" 2019-01-15\"], \"showlegend\": true}], {\"title\": \"Gantt Chart - Tasks\", \"height\": 600, \"yaxis\": {\"tickvals\": [0, 1, 2, 3, 4, 5, 6, 7, 8, 9, 10, 11, 12, 13, 14, 15, 16], \"range\": [-1, 18], \"zeroline\": false, \"showgrid\": true, \"autorange\": false, \"ticktext\": [\"Preparation and kick-off\", \"Point sources (spec. 1.3)\", \"Darcy-Weisbach friction (spec. 1.1)\", \"Contact with hydrologic features (spec. 1.2)\", \"Physical properties (spec 1.4)\", \"Outflow BC (spec. 1.5)\", \"NetCDF I/O (spec. 3.6 3.9 3.10)\", \"Preliminary tests/validation\", \"Evaporation model (spec. 1.6)\", \"Infiltration model (spec. 1.6)\", \"User-friendly configuration (spec. 3.1 3.2)\", \"Microsoft Azure (spec. 3.8)\", \"Jupyter notebook integration (spec. 3.3)\", \"Windows workflow (spec. 3.11)\", \"Performance Optimization (spec. 2.2 2.3 2.4)\", \"Tests/validation\", \"Achievement review and report\"]}, \"xaxis\": {\"rangeselector\": {\"buttons\": [{\"stepmode\": \"backward\", \"step\": \"day\", \"count\": 7, \"label\": \"1w\"}, {\"stepmode\": \"backward\", \"step\": \"month\", \"count\": 1, \"label\": \"1m\"}, {\"stepmode\": \"backward\", \"step\": \"month\", \"count\": 6, \"label\": \"6m\"}, {\"stepmode\": \"todate\", \"step\": \"year\", \"count\": 1, \"label\": \"YTD\"}, {\"stepmode\": \"backward\", \"step\": \"year\", \"count\": 1, \"label\": \"1y\"}, {\"step\": \"all\"}]}, \"zeroline\": false, \"showgrid\": true, \"type\": \"date\"}, \"shapes\": [{\"x1\": \" 2018-09-14\", \"fillcolor\": \"rgb(255, 127, 14)\", \"y0\": -0.5, \"xref\": \"x\", \"type\": \"rect\", \"opacity\": 1, \"yref\": \"y\", \"y1\": 0.5, \"x0\": \" 2018-09-01\", \"line\": {\"width\": 0}}, {\"x1\": \" 2018-09-16\", \"fillcolor\": \"rgb(31, 119, 180)\", \"y0\": 0.5, \"xref\": \"x\", \"type\": \"rect\", \"opacity\": 1, \"yref\": \"y\", \"y1\": 1.5, \"x0\": \" 2018-09-10\", \"line\": {\"width\": 0}}, {\"x1\": \" 2018-09-22\", \"fillcolor\": \"rgb(31, 119, 180)\", \"y0\": 1.5, \"xref\": \"x\", \"type\": \"rect\", \"opacity\": 1, \"yref\": \"y\", \"y1\": 2.5, \"x0\": \" 2018-09-16\", \"line\": {\"width\": 0}}, {\"x1\": \" 2018-09-30\", \"fillcolor\": \"rgb(31, 119, 180)\", \"y0\": 2.5, \"xref\": \"x\", \"type\": \"rect\", \"opacity\": 1, \"yref\": \"y\", \"y1\": 3.5, \"x0\": \" 2018-09-22\", \"line\": {\"width\": 0}}, {\"x1\": \" 2018-10-02\", \"fillcolor\": \"rgb(31, 119, 180)\", \"y0\": 3.5, \"xref\": \"x\", \"type\": \"rect\", \"opacity\": 1, \"yref\": \"y\", \"y1\": 4.5, \"x0\": \" 2018-09-30\", \"line\": {\"width\": 0}}, {\"x1\": \" 2018-10-05\", \"fillcolor\": \"rgb(31, 119, 180)\", \"y0\": 4.5, \"xref\": \"x\", \"type\": \"rect\", \"opacity\": 1, \"yref\": \"y\", \"y1\": 5.5, \"x0\": \" 2018-10-02\", \"line\": {\"width\": 0}}, {\"x1\": \" 2018-10-20\", \"fillcolor\": \"rgb(31, 119, 180)\", \"y0\": 5.5, \"xref\": \"x\", \"type\": \"rect\", \"opacity\": 1, \"yref\": \"y\", \"y1\": 6.5, \"x0\": \" 2018-10-05\", \"line\": {\"width\": 0}}, {\"x1\": \" 2018-10-20\", \"fillcolor\": \"rgb(255, 127, 14)\", \"y0\": 6.5, \"xref\": \"x\", \"type\": \"rect\", \"opacity\": 1, \"yref\": \"y\", \"y1\": 7.5, \"x0\": \" 2018-10-12\", \"line\": {\"width\": 0}}, {\"x1\": \" 2018-11-03\", \"fillcolor\": \"rgb(31, 119, 180)\", \"y0\": 7.5, \"xref\": \"x\", \"type\": \"rect\", \"opacity\": 1, \"yref\": \"y\", \"y1\": 8.5, \"x0\": \" 2018-10-20\", \"line\": {\"width\": 0}}, {\"x1\": \" 2018-11-17\", \"fillcolor\": \"rgb(31, 119, 180)\", \"y0\": 8.5, \"xref\": \"x\", \"type\": \"rect\", \"opacity\": 1, \"yref\": \"y\", \"y1\": 9.5, \"x0\": \" 2018-11-03\", \"line\": {\"width\": 0}}, {\"x1\": \" 2018-11-03\", \"fillcolor\": \"rgb(214, 39, 40)\", \"y0\": 9.5, \"xref\": \"x\", \"type\": \"rect\", \"opacity\": 1, \"yref\": \"y\", \"y1\": 10.5, \"x0\": \" 2018-10-25\", \"line\": {\"width\": 0}}, {\"x1\": \" 2018-11-21\", \"fillcolor\": \"rgb(214, 39, 40)\", \"y0\": 10.5, \"xref\": \"x\", \"type\": \"rect\", \"opacity\": 1, \"yref\": \"y\", \"y1\": 11.5, \"x0\": \" 2018-11-03\", \"line\": {\"width\": 0}}, {\"x1\": \" 2018-12-05\", \"fillcolor\": \"rgb(214, 39, 40)\", \"y0\": 11.5, \"xref\": \"x\", \"type\": \"rect\", \"opacity\": 1, \"yref\": \"y\", \"y1\": 12.5, \"x0\": \" 2018-11-21\", \"line\": {\"width\": 0}}, {\"x1\": \" 2018-12-15\", \"fillcolor\": \"rgb(214, 39, 40)\", \"y0\": 12.5, \"xref\": \"x\", \"type\": \"rect\", \"opacity\": 1, \"yref\": \"y\", \"y1\": 13.5, \"x0\": \" 2018-12-05\", \"line\": {\"width\": 0}}, {\"x1\": \" 2019-01-05\", \"fillcolor\": \"rgb(44, 160, 44)\", \"y0\": 13.5, \"xref\": \"x\", \"type\": \"rect\", \"opacity\": 1, \"yref\": \"y\", \"y1\": 14.5, \"x0\": \" 2018-12-15\", \"line\": {\"width\": 0}}, {\"x1\": \" 2019-01-15\", \"fillcolor\": \"rgb(255, 127, 14)\", \"y0\": 14.5, \"xref\": \"x\", \"type\": \"rect\", \"opacity\": 1, \"yref\": \"y\", \"y1\": 15.5, \"x0\": \" 2018-12-26\", \"line\": {\"width\": 0}}, {\"x1\": \" 2019-01-31\", \"fillcolor\": \"rgb(255, 127, 14)\", \"y0\": 15.5, \"xref\": \"x\", \"type\": \"rect\", \"opacity\": 1, \"yref\": \"y\", \"y1\": 16.5, \"x0\": \" 2019-01-15\", \"line\": {\"width\": 0}}], \"width\": 900, \"showlegend\": true, \"hovermode\": \"closest\"}, {\"showLink\": true, \"linkText\": \"Export to plot.ly\"})});</script>"
      ]
     },
     "metadata": {},
     "output_type": "display_data"
    }
   ],
   "source": [
    "plotly.offline.iplot(fig1, filename='gantt-chart-overview')\n",
    "plotly.offline.iplot(fig2, filename='gantt-chart-tasks')"
   ]
  },
  {
   "cell_type": "markdown",
   "metadata": {},
   "source": [
    "## List of tasks"
   ]
  },
  {
   "cell_type": "markdown",
   "metadata": {},
   "source": [
    "### A. Re-organized task list\n",
    "\n",
    "1. Darcy-Weisbach friction (spec. 1.1)\n",
    "2. Point sources (spec 1.3)\n",
    "3. Contact with hydrologic features (spec. 1.2)\n",
    "    * Read local hydrography data (spec. 3.7)\n",
    "    * Read hydrography data through internet (spec. 3.7)\n",
    "4. Physical properties (spec 1.4)\n",
    "5. Outflow BC (spec. 1.5)\n",
    "6. Evaporation models (spec. 1.6)\n",
    "    * Literature review\n",
    "    * Implementation\n",
    "7. Infiltration models (spec. 1.6)\n",
    "    * Literature review\n",
    "    * Implementation\n",
    "8. NetCDF I/O\n",
    "    * Read local topography file\n",
    "    * Read topography file through internet\n",
    "    * Interpolation from AMR grid to uniform grid\n",
    "    * Output interpolated data on uniform grid\n",
    "9. User-friendly simulation configuration (spec. 3.1 & spec. 3.2)\n",
    "10. Cloud-based (Microsoft Azure) simulations (spec. 3.8)\n",
    "    * Docker image\n",
    "    * Python or Bash script to deploy solvers, simulation configurations, and launch simulations on Azure\n",
    "    * Download resulting data to local machine\n",
    "11. Integration of simulation configurations, Azure-based simulations, and templated post-processing in Jupyter notebook (spec. 3.3)\n",
    "12. Windows-based workflow (spec. 3.11)\n",
    "13. Performance Optimization\n",
    "    * Find optimized default AMR settings (spec. 2.2)\n",
    "    * Find optimized default setting for adaptive time steps (spec. 2.4)\n",
    "    * Code modification for further improvement (spec. 2.3)"
   ]
  },
  {
   "cell_type": "markdown",
   "metadata": {},
   "source": [
    "### B. Unclear tasks\n",
    "\n",
    "**Spec. 3.4**: Design for implementation via REST web service\n",
    "\n",
    "**Spec. 3.5**: Integrate with Esri GIS software, as needed"
   ]
  }
 ],
 "metadata": {
  "kernelspec": {
   "display_name": "Python [default]",
   "language": "python",
   "name": "python3"
  },
  "language_info": {
   "codemirror_mode": {
    "name": "ipython",
    "version": 3
   },
   "file_extension": ".py",
   "mimetype": "text/x-python",
   "name": "python",
   "nbconvert_exporter": "python",
   "pygments_lexer": "ipython3",
   "version": "3.5.6"
  }
 },
 "nbformat": 4,
 "nbformat_minor": 2
}
