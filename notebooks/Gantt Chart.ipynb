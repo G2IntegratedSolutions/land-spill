{
 "cells": [
  {
   "cell_type": "code",
   "execution_count": 1,
   "metadata": {},
   "outputs": [],
   "source": [
    "import csv\n",
    "import plotly\n",
    "import plotly.figure_factory"
   ]
  },
  {
   "cell_type": "code",
   "execution_count": 2,
   "metadata": {},
   "outputs": [
    {
     "data": {
      "text/html": [
       "<script>requirejs.config({paths: { 'plotly': ['https://cdn.plot.ly/plotly-latest.min']},});if(!window.Plotly) {{require(['plotly'],function(plotly) {window.Plotly=plotly;});}}</script>"
      ],
      "text/vnd.plotly.v1+html": [
       "<script>requirejs.config({paths: { 'plotly': ['https://cdn.plot.ly/plotly-latest.min']},});if(!window.Plotly) {{require(['plotly'],function(plotly) {window.Plotly=plotly;});}}</script>"
      ]
     },
     "metadata": {},
     "output_type": "display_data"
    }
   ],
   "source": [
    "plotly.offline.init_notebook_mode(connected=True)"
   ]
  },
  {
   "cell_type": "code",
   "execution_count": 3,
   "metadata": {},
   "outputs": [],
   "source": [
    "data = []\n",
    "with open('./data/gantt_chart.csv', 'r', newline='') as csvfile:\n",
    "    reader = csv.DictReader(\n",
    "        csvfile, delimiter=',', \n",
    "        fieldnames=['Task', 'Start', 'Finish', 'Resource'])\n",
    "    for row in reader:\n",
    "        data.append(row)"
   ]
  },
  {
   "cell_type": "code",
   "execution_count": 4,
   "metadata": {},
   "outputs": [],
   "source": [
    "fig = plotly.figure_factory.create_gantt(\n",
    "    data, \n",
    "    title='Gantt Chart', \n",
    "    index_col='Resource', \n",
    "    show_colorbar=True,\n",
    "    showgrid_x=True,\n",
    "    showgrid_y=True,\n",
    "    bar_width=0.8)"
   ]
  },
  {
   "cell_type": "code",
   "execution_count": 5,
   "metadata": {},
   "outputs": [
    {
     "data": {
      "application/vnd.plotly.v1+json": {
       "data": [
        {
         "marker": {
          "color": "white"
         },
         "name": "",
         "type": "scatter",
         "uid": "dedca9ee-b151-11e8-a945-e1dee26bfa04",
         "x": [
          " 2016-01-01",
          " 2016-01-01 6:00:00"
         ],
         "y": [
          0,
          0
         ]
        },
        {
         "marker": {
          "color": "white"
         },
         "name": "",
         "type": "scatter",
         "uid": "dedcab56-b151-11e8-a945-e1dee26bfa04",
         "x": [
          " 2016-01-01 7:00:00",
          " 2016-01-01 7:30:00"
         ],
         "y": [
          1,
          1
         ]
        },
        {
         "marker": {
          "color": "white"
         },
         "name": "",
         "type": "scatter",
         "uid": "dedcac00-b151-11e8-a945-e1dee26bfa04",
         "x": [
          " 2016-01-01 9:00:00",
          " 2016-01-01 11:25:00"
         ],
         "y": [
          2,
          2
         ]
        },
        {
         "marker": {
          "color": "white"
         },
         "name": "",
         "type": "scatter",
         "uid": "dedcac8c-b151-11e8-a945-e1dee26bfa04",
         "x": [
          " 2016-01-01 11:30:00",
          " 2016-01-01 12:00:00"
         ],
         "y": [
          3,
          3
         ]
        },
        {
         "marker": {
          "color": "white"
         },
         "name": "",
         "type": "scatter",
         "uid": "dedcad0e-b151-11e8-a945-e1dee26bfa04",
         "x": [
          " 2016-01-01 12:00:00",
          " 2016-01-01 13:00:00"
         ],
         "y": [
          4,
          4
         ]
        },
        {
         "marker": {
          "color": "white"
         },
         "name": "",
         "type": "scatter",
         "uid": "dedcad86-b151-11e8-a945-e1dee26bfa04",
         "x": [
          " 2016-01-01 13:00:00",
          " 2016-01-01 17:00:00"
         ],
         "y": [
          5,
          5
         ]
        },
        {
         "marker": {
          "color": "white"
         },
         "name": "",
         "type": "scatter",
         "uid": "dedcadfe-b151-11e8-a945-e1dee26bfa04",
         "x": [
          " 2016-01-01 17:30:00",
          " 2016-01-01 18:30:00"
         ],
         "y": [
          6,
          6
         ]
        },
        {
         "marker": {
          "color": "white"
         },
         "name": "",
         "type": "scatter",
         "uid": "dedcae6c-b151-11e8-a945-e1dee26bfa04",
         "x": [
          " 2016-01-01 18:30:00",
          " 2016-01-01 19:00:00"
         ],
         "y": [
          7,
          7
         ]
        },
        {
         "marker": {
          "color": "white"
         },
         "name": "",
         "type": "scatter",
         "uid": "dedcaee4-b151-11e8-a945-e1dee26bfa04",
         "x": [
          " 2016-01-01 19:00:00",
          " 2016-01-01 20:00:00"
         ],
         "y": [
          8,
          8
         ]
        },
        {
         "marker": {
          "color": "white"
         },
         "name": "",
         "type": "scatter",
         "uid": "dedcaf70-b151-11e8-a945-e1dee26bfa04",
         "x": [
          " 2016-01-01 21:00:00",
          " 2016-01-01 23:59:00"
         ],
         "y": [
          9,
          9
         ]
        },
        {
         "hoverinfo": "none",
         "marker": {
          "color": "rgb(31, 119, 180)",
          "size": 1
         },
         "name": " Brain",
         "showlegend": true,
         "type": "scatter",
         "uid": "dedcafe8-b151-11e8-a945-e1dee26bfa04",
         "x": [
          " 2016-01-01 21:00:00",
          " 2016-01-01 21:00:00"
         ],
         "y": [
          0,
          0
         ]
        },
        {
         "hoverinfo": "none",
         "marker": {
          "color": "rgb(255, 127, 14)",
          "size": 1
         },
         "name": " Cardio",
         "showlegend": true,
         "type": "scatter",
         "uid": "dedcb056-b151-11e8-a945-e1dee26bfa04",
         "x": [
          " 2016-01-01 21:00:00",
          " 2016-01-01 21:00:00"
         ],
         "y": [
          1,
          1
         ]
        },
        {
         "hoverinfo": "none",
         "marker": {
          "color": "rgb(44, 160, 44)",
          "size": 1
         },
         "name": " Food",
         "showlegend": true,
         "type": "scatter",
         "uid": "dedcb0c4-b151-11e8-a945-e1dee26bfa04",
         "x": [
          " 2016-01-01 21:00:00",
          " 2016-01-01 21:00:00"
         ],
         "y": [
          2,
          2
         ]
        },
        {
         "hoverinfo": "none",
         "marker": {
          "color": "rgb(214, 39, 40)",
          "size": 1
         },
         "name": " Rest",
         "showlegend": true,
         "type": "scatter",
         "uid": "dedcb132-b151-11e8-a945-e1dee26bfa04",
         "x": [
          " 2016-01-01 21:00:00",
          " 2016-01-01 21:00:00"
         ],
         "y": [
          3,
          3
         ]
        },
        {
         "hoverinfo": "none",
         "marker": {
          "color": "rgb(148, 103, 189)",
          "size": 1
         },
         "name": " Sleep",
         "showlegend": true,
         "type": "scatter",
         "uid": "dedcb1aa-b151-11e8-a945-e1dee26bfa04",
         "x": [
          " 2016-01-01 21:00:00",
          " 2016-01-01 21:00:00"
         ],
         "y": [
          4,
          4
         ]
        }
       ],
       "layout": {
        "height": 600,
        "hovermode": "closest",
        "shapes": [
         {
          "fillcolor": "rgb(148, 103, 189)",
          "line": {
           "width": 0
          },
          "opacity": 1,
          "type": "rect",
          "x0": " 2016-01-01",
          "x1": " 2016-01-01 6:00:00",
          "xref": "x",
          "y0": -0.8,
          "y1": 0.8,
          "yref": "y"
         },
         {
          "fillcolor": "rgb(44, 160, 44)",
          "line": {
           "width": 0
          },
          "opacity": 1,
          "type": "rect",
          "x0": " 2016-01-01 7:00:00",
          "x1": " 2016-01-01 7:30:00",
          "xref": "x",
          "y0": 0.19999999999999996,
          "y1": 1.8,
          "yref": "y"
         },
         {
          "fillcolor": "rgb(31, 119, 180)",
          "line": {
           "width": 0
          },
          "opacity": 1,
          "type": "rect",
          "x0": " 2016-01-01 9:00:00",
          "x1": " 2016-01-01 11:25:00",
          "xref": "x",
          "y0": 1.2,
          "y1": 2.8,
          "yref": "y"
         },
         {
          "fillcolor": "rgb(214, 39, 40)",
          "line": {
           "width": 0
          },
          "opacity": 1,
          "type": "rect",
          "x0": " 2016-01-01 11:30:00",
          "x1": " 2016-01-01 12:00:00",
          "xref": "x",
          "y0": 2.2,
          "y1": 3.8,
          "yref": "y"
         },
         {
          "fillcolor": "rgb(44, 160, 44)",
          "line": {
           "width": 0
          },
          "opacity": 1,
          "type": "rect",
          "x0": " 2016-01-01 12:00:00",
          "x1": " 2016-01-01 13:00:00",
          "xref": "x",
          "y0": 3.2,
          "y1": 4.8,
          "yref": "y"
         },
         {
          "fillcolor": "rgb(31, 119, 180)",
          "line": {
           "width": 0
          },
          "opacity": 1,
          "type": "rect",
          "x0": " 2016-01-01 13:00:00",
          "x1": " 2016-01-01 17:00:00",
          "xref": "x",
          "y0": 4.2,
          "y1": 5.8,
          "yref": "y"
         },
         {
          "fillcolor": "rgb(255, 127, 14)",
          "line": {
           "width": 0
          },
          "opacity": 1,
          "type": "rect",
          "x0": " 2016-01-01 17:30:00",
          "x1": " 2016-01-01 18:30:00",
          "xref": "x",
          "y0": 5.2,
          "y1": 6.8,
          "yref": "y"
         },
         {
          "fillcolor": "rgb(214, 39, 40)",
          "line": {
           "width": 0
          },
          "opacity": 1,
          "type": "rect",
          "x0": " 2016-01-01 18:30:00",
          "x1": " 2016-01-01 19:00:00",
          "xref": "x",
          "y0": 6.2,
          "y1": 7.8,
          "yref": "y"
         },
         {
          "fillcolor": "rgb(44, 160, 44)",
          "line": {
           "width": 0
          },
          "opacity": 1,
          "type": "rect",
          "x0": " 2016-01-01 19:00:00",
          "x1": " 2016-01-01 20:00:00",
          "xref": "x",
          "y0": 7.2,
          "y1": 8.8,
          "yref": "y"
         },
         {
          "fillcolor": "rgb(148, 103, 189)",
          "line": {
           "width": 0
          },
          "opacity": 1,
          "type": "rect",
          "x0": " 2016-01-01 21:00:00",
          "x1": " 2016-01-01 23:59:00",
          "xref": "x",
          "y0": 8.2,
          "y1": 9.8,
          "yref": "y"
         }
        ],
        "showlegend": true,
        "title": "Gantt Chart",
        "width": 900,
        "xaxis": {
         "rangeselector": {
          "buttons": [
           {
            "count": 7,
            "label": "1w",
            "step": "day",
            "stepmode": "backward"
           },
           {
            "count": 1,
            "label": "1m",
            "step": "month",
            "stepmode": "backward"
           },
           {
            "count": 6,
            "label": "6m",
            "step": "month",
            "stepmode": "backward"
           },
           {
            "count": 1,
            "label": "YTD",
            "step": "year",
            "stepmode": "todate"
           },
           {
            "count": 1,
            "label": "1y",
            "step": "year",
            "stepmode": "backward"
           },
           {
            "step": "all"
           }
          ]
         },
         "showgrid": true,
         "type": "date",
         "zeroline": false
        },
        "yaxis": {
         "autorange": false,
         "range": [
          -1,
          11
         ],
         "showgrid": true,
         "ticktext": [
          "Morning Sleep",
          "Breakfast",
          "Work",
          "Break",
          "Lunch",
          "Work",
          "Exercise",
          "Post Workout Rest",
          "Dinner",
          "Evening Sleep"
         ],
         "tickvals": [
          0,
          1,
          2,
          3,
          4,
          5,
          6,
          7,
          8,
          9
         ],
         "zeroline": false
        }
       }
      },
      "text/html": [
       "<div id=\"055090c5-1891-49f3-8155-fa5a77d88c8e\" style=\"height: 600px; width: 900px;\" class=\"plotly-graph-div\"></div><script type=\"text/javascript\">require([\"plotly\"], function(Plotly) { window.PLOTLYENV=window.PLOTLYENV || {};window.PLOTLYENV.BASE_URL=\"https://plot.ly\";Plotly.newPlot(\"055090c5-1891-49f3-8155-fa5a77d88c8e\", [{\"uid\": \"def65b28-b151-11e8-a945-e1dee26bfa04\", \"type\": \"scatter\", \"name\": \"\", \"x\": [\" 2016-01-01\", \" 2016-01-01 6:00:00\"], \"marker\": {\"color\": \"white\"}, \"y\": [0, 0]}, {\"uid\": \"def65c40-b151-11e8-a945-e1dee26bfa04\", \"type\": \"scatter\", \"name\": \"\", \"x\": [\" 2016-01-01 7:00:00\", \" 2016-01-01 7:30:00\"], \"marker\": {\"color\": \"white\"}, \"y\": [1, 1]}, {\"uid\": \"def65ce0-b151-11e8-a945-e1dee26bfa04\", \"type\": \"scatter\", \"name\": \"\", \"x\": [\" 2016-01-01 9:00:00\", \" 2016-01-01 11:25:00\"], \"marker\": {\"color\": \"white\"}, \"y\": [2, 2]}, {\"uid\": \"def65d58-b151-11e8-a945-e1dee26bfa04\", \"type\": \"scatter\", \"name\": \"\", \"x\": [\" 2016-01-01 11:30:00\", \" 2016-01-01 12:00:00\"], \"marker\": {\"color\": \"white\"}, \"y\": [3, 3]}, {\"uid\": \"def65dee-b151-11e8-a945-e1dee26bfa04\", \"type\": \"scatter\", \"name\": \"\", \"x\": [\" 2016-01-01 12:00:00\", \" 2016-01-01 13:00:00\"], \"marker\": {\"color\": \"white\"}, \"y\": [4, 4]}, {\"uid\": \"def65e66-b151-11e8-a945-e1dee26bfa04\", \"type\": \"scatter\", \"name\": \"\", \"x\": [\" 2016-01-01 13:00:00\", \" 2016-01-01 17:00:00\"], \"marker\": {\"color\": \"white\"}, \"y\": [5, 5]}, {\"uid\": \"def65ed4-b151-11e8-a945-e1dee26bfa04\", \"type\": \"scatter\", \"name\": \"\", \"x\": [\" 2016-01-01 17:30:00\", \" 2016-01-01 18:30:00\"], \"marker\": {\"color\": \"white\"}, \"y\": [6, 6]}, {\"uid\": \"def65f42-b151-11e8-a945-e1dee26bfa04\", \"type\": \"scatter\", \"name\": \"\", \"x\": [\" 2016-01-01 18:30:00\", \" 2016-01-01 19:00:00\"], \"marker\": {\"color\": \"white\"}, \"y\": [7, 7]}, {\"uid\": \"def65fba-b151-11e8-a945-e1dee26bfa04\", \"type\": \"scatter\", \"name\": \"\", \"x\": [\" 2016-01-01 19:00:00\", \" 2016-01-01 20:00:00\"], \"marker\": {\"color\": \"white\"}, \"y\": [8, 8]}, {\"uid\": \"def66028-b151-11e8-a945-e1dee26bfa04\", \"type\": \"scatter\", \"name\": \"\", \"x\": [\" 2016-01-01 21:00:00\", \" 2016-01-01 23:59:00\"], \"marker\": {\"color\": \"white\"}, \"y\": [9, 9]}, {\"hoverinfo\": \"none\", \"showlegend\": true, \"uid\": \"def66096-b151-11e8-a945-e1dee26bfa04\", \"type\": \"scatter\", \"name\": \" Brain\", \"x\": [\" 2016-01-01 21:00:00\", \" 2016-01-01 21:00:00\"], \"marker\": {\"color\": \"rgb(31, 119, 180)\", \"size\": 1}, \"y\": [0, 0]}, {\"hoverinfo\": \"none\", \"showlegend\": true, \"uid\": \"def660fa-b151-11e8-a945-e1dee26bfa04\", \"type\": \"scatter\", \"name\": \" Cardio\", \"x\": [\" 2016-01-01 21:00:00\", \" 2016-01-01 21:00:00\"], \"marker\": {\"color\": \"rgb(255, 127, 14)\", \"size\": 1}, \"y\": [1, 1]}, {\"hoverinfo\": \"none\", \"showlegend\": true, \"uid\": \"def66168-b151-11e8-a945-e1dee26bfa04\", \"type\": \"scatter\", \"name\": \" Food\", \"x\": [\" 2016-01-01 21:00:00\", \" 2016-01-01 21:00:00\"], \"marker\": {\"color\": \"rgb(44, 160, 44)\", \"size\": 1}, \"y\": [2, 2]}, {\"hoverinfo\": \"none\", \"showlegend\": true, \"uid\": \"def661d6-b151-11e8-a945-e1dee26bfa04\", \"type\": \"scatter\", \"name\": \" Rest\", \"x\": [\" 2016-01-01 21:00:00\", \" 2016-01-01 21:00:00\"], \"marker\": {\"color\": \"rgb(214, 39, 40)\", \"size\": 1}, \"y\": [3, 3]}, {\"hoverinfo\": \"none\", \"showlegend\": true, \"uid\": \"def6623a-b151-11e8-a945-e1dee26bfa04\", \"type\": \"scatter\", \"name\": \" Sleep\", \"x\": [\" 2016-01-01 21:00:00\", \" 2016-01-01 21:00:00\"], \"marker\": {\"color\": \"rgb(148, 103, 189)\", \"size\": 1}, \"y\": [4, 4]}], {\"showlegend\": true, \"height\": 600, \"title\": \"Gantt Chart\", \"shapes\": [{\"opacity\": 1, \"type\": \"rect\", \"x0\": \" 2016-01-01\", \"xref\": \"x\", \"y0\": -0.8, \"yref\": \"y\", \"y1\": 0.8, \"fillcolor\": \"rgb(148, 103, 189)\", \"x1\": \" 2016-01-01 6:00:00\", \"line\": {\"width\": 0}}, {\"opacity\": 1, \"type\": \"rect\", \"x0\": \" 2016-01-01 7:00:00\", \"xref\": \"x\", \"y0\": 0.19999999999999996, \"yref\": \"y\", \"y1\": 1.8, \"fillcolor\": \"rgb(44, 160, 44)\", \"x1\": \" 2016-01-01 7:30:00\", \"line\": {\"width\": 0}}, {\"opacity\": 1, \"type\": \"rect\", \"x0\": \" 2016-01-01 9:00:00\", \"xref\": \"x\", \"y0\": 1.2, \"yref\": \"y\", \"y1\": 2.8, \"fillcolor\": \"rgb(31, 119, 180)\", \"x1\": \" 2016-01-01 11:25:00\", \"line\": {\"width\": 0}}, {\"opacity\": 1, \"type\": \"rect\", \"x0\": \" 2016-01-01 11:30:00\", \"xref\": \"x\", \"y0\": 2.2, \"yref\": \"y\", \"y1\": 3.8, \"fillcolor\": \"rgb(214, 39, 40)\", \"x1\": \" 2016-01-01 12:00:00\", \"line\": {\"width\": 0}}, {\"opacity\": 1, \"type\": \"rect\", \"x0\": \" 2016-01-01 12:00:00\", \"xref\": \"x\", \"y0\": 3.2, \"yref\": \"y\", \"y1\": 4.8, \"fillcolor\": \"rgb(44, 160, 44)\", \"x1\": \" 2016-01-01 13:00:00\", \"line\": {\"width\": 0}}, {\"opacity\": 1, \"type\": \"rect\", \"x0\": \" 2016-01-01 13:00:00\", \"xref\": \"x\", \"y0\": 4.2, \"yref\": \"y\", \"y1\": 5.8, \"fillcolor\": \"rgb(31, 119, 180)\", \"x1\": \" 2016-01-01 17:00:00\", \"line\": {\"width\": 0}}, {\"opacity\": 1, \"type\": \"rect\", \"x0\": \" 2016-01-01 17:30:00\", \"xref\": \"x\", \"y0\": 5.2, \"yref\": \"y\", \"y1\": 6.8, \"fillcolor\": \"rgb(255, 127, 14)\", \"x1\": \" 2016-01-01 18:30:00\", \"line\": {\"width\": 0}}, {\"opacity\": 1, \"type\": \"rect\", \"x0\": \" 2016-01-01 18:30:00\", \"xref\": \"x\", \"y0\": 6.2, \"yref\": \"y\", \"y1\": 7.8, \"fillcolor\": \"rgb(214, 39, 40)\", \"x1\": \" 2016-01-01 19:00:00\", \"line\": {\"width\": 0}}, {\"opacity\": 1, \"type\": \"rect\", \"x0\": \" 2016-01-01 19:00:00\", \"xref\": \"x\", \"y0\": 7.2, \"yref\": \"y\", \"y1\": 8.8, \"fillcolor\": \"rgb(44, 160, 44)\", \"x1\": \" 2016-01-01 20:00:00\", \"line\": {\"width\": 0}}, {\"opacity\": 1, \"type\": \"rect\", \"x0\": \" 2016-01-01 21:00:00\", \"xref\": \"x\", \"y0\": 8.2, \"yref\": \"y\", \"y1\": 9.8, \"fillcolor\": \"rgb(148, 103, 189)\", \"x1\": \" 2016-01-01 23:59:00\", \"line\": {\"width\": 0}}], \"xaxis\": {\"zeroline\": false, \"type\": \"date\", \"rangeselector\": {\"buttons\": [{\"count\": 7, \"label\": \"1w\", \"step\": \"day\", \"stepmode\": \"backward\"}, {\"count\": 1, \"label\": \"1m\", \"step\": \"month\", \"stepmode\": \"backward\"}, {\"count\": 6, \"label\": \"6m\", \"step\": \"month\", \"stepmode\": \"backward\"}, {\"count\": 1, \"label\": \"YTD\", \"step\": \"year\", \"stepmode\": \"todate\"}, {\"count\": 1, \"label\": \"1y\", \"step\": \"year\", \"stepmode\": \"backward\"}, {\"step\": \"all\"}]}, \"showgrid\": true}, \"hovermode\": \"closest\", \"yaxis\": {\"tickvals\": [0, 1, 2, 3, 4, 5, 6, 7, 8, 9], \"autorange\": false, \"range\": [-1, 11], \"ticktext\": [\"Morning Sleep\", \"Breakfast\", \"Work\", \"Break\", \"Lunch\", \"Work\", \"Exercise\", \"Post Workout Rest\", \"Dinner\", \"Evening Sleep\"], \"zeroline\": false, \"showgrid\": true}, \"width\": 900}, {\"linkText\": \"Export to plot.ly\", \"showLink\": true})});</script>"
      ],
      "text/vnd.plotly.v1+html": [
       "<div id=\"055090c5-1891-49f3-8155-fa5a77d88c8e\" style=\"height: 600px; width: 900px;\" class=\"plotly-graph-div\"></div><script type=\"text/javascript\">require([\"plotly\"], function(Plotly) { window.PLOTLYENV=window.PLOTLYENV || {};window.PLOTLYENV.BASE_URL=\"https://plot.ly\";Plotly.newPlot(\"055090c5-1891-49f3-8155-fa5a77d88c8e\", [{\"uid\": \"def65b28-b151-11e8-a945-e1dee26bfa04\", \"type\": \"scatter\", \"name\": \"\", \"x\": [\" 2016-01-01\", \" 2016-01-01 6:00:00\"], \"marker\": {\"color\": \"white\"}, \"y\": [0, 0]}, {\"uid\": \"def65c40-b151-11e8-a945-e1dee26bfa04\", \"type\": \"scatter\", \"name\": \"\", \"x\": [\" 2016-01-01 7:00:00\", \" 2016-01-01 7:30:00\"], \"marker\": {\"color\": \"white\"}, \"y\": [1, 1]}, {\"uid\": \"def65ce0-b151-11e8-a945-e1dee26bfa04\", \"type\": \"scatter\", \"name\": \"\", \"x\": [\" 2016-01-01 9:00:00\", \" 2016-01-01 11:25:00\"], \"marker\": {\"color\": \"white\"}, \"y\": [2, 2]}, {\"uid\": \"def65d58-b151-11e8-a945-e1dee26bfa04\", \"type\": \"scatter\", \"name\": \"\", \"x\": [\" 2016-01-01 11:30:00\", \" 2016-01-01 12:00:00\"], \"marker\": {\"color\": \"white\"}, \"y\": [3, 3]}, {\"uid\": \"def65dee-b151-11e8-a945-e1dee26bfa04\", \"type\": \"scatter\", \"name\": \"\", \"x\": [\" 2016-01-01 12:00:00\", \" 2016-01-01 13:00:00\"], \"marker\": {\"color\": \"white\"}, \"y\": [4, 4]}, {\"uid\": \"def65e66-b151-11e8-a945-e1dee26bfa04\", \"type\": \"scatter\", \"name\": \"\", \"x\": [\" 2016-01-01 13:00:00\", \" 2016-01-01 17:00:00\"], \"marker\": {\"color\": \"white\"}, \"y\": [5, 5]}, {\"uid\": \"def65ed4-b151-11e8-a945-e1dee26bfa04\", \"type\": \"scatter\", \"name\": \"\", \"x\": [\" 2016-01-01 17:30:00\", \" 2016-01-01 18:30:00\"], \"marker\": {\"color\": \"white\"}, \"y\": [6, 6]}, {\"uid\": \"def65f42-b151-11e8-a945-e1dee26bfa04\", \"type\": \"scatter\", \"name\": \"\", \"x\": [\" 2016-01-01 18:30:00\", \" 2016-01-01 19:00:00\"], \"marker\": {\"color\": \"white\"}, \"y\": [7, 7]}, {\"uid\": \"def65fba-b151-11e8-a945-e1dee26bfa04\", \"type\": \"scatter\", \"name\": \"\", \"x\": [\" 2016-01-01 19:00:00\", \" 2016-01-01 20:00:00\"], \"marker\": {\"color\": \"white\"}, \"y\": [8, 8]}, {\"uid\": \"def66028-b151-11e8-a945-e1dee26bfa04\", \"type\": \"scatter\", \"name\": \"\", \"x\": [\" 2016-01-01 21:00:00\", \" 2016-01-01 23:59:00\"], \"marker\": {\"color\": \"white\"}, \"y\": [9, 9]}, {\"hoverinfo\": \"none\", \"showlegend\": true, \"uid\": \"def66096-b151-11e8-a945-e1dee26bfa04\", \"type\": \"scatter\", \"name\": \" Brain\", \"x\": [\" 2016-01-01 21:00:00\", \" 2016-01-01 21:00:00\"], \"marker\": {\"color\": \"rgb(31, 119, 180)\", \"size\": 1}, \"y\": [0, 0]}, {\"hoverinfo\": \"none\", \"showlegend\": true, \"uid\": \"def660fa-b151-11e8-a945-e1dee26bfa04\", \"type\": \"scatter\", \"name\": \" Cardio\", \"x\": [\" 2016-01-01 21:00:00\", \" 2016-01-01 21:00:00\"], \"marker\": {\"color\": \"rgb(255, 127, 14)\", \"size\": 1}, \"y\": [1, 1]}, {\"hoverinfo\": \"none\", \"showlegend\": true, \"uid\": \"def66168-b151-11e8-a945-e1dee26bfa04\", \"type\": \"scatter\", \"name\": \" Food\", \"x\": [\" 2016-01-01 21:00:00\", \" 2016-01-01 21:00:00\"], \"marker\": {\"color\": \"rgb(44, 160, 44)\", \"size\": 1}, \"y\": [2, 2]}, {\"hoverinfo\": \"none\", \"showlegend\": true, \"uid\": \"def661d6-b151-11e8-a945-e1dee26bfa04\", \"type\": \"scatter\", \"name\": \" Rest\", \"x\": [\" 2016-01-01 21:00:00\", \" 2016-01-01 21:00:00\"], \"marker\": {\"color\": \"rgb(214, 39, 40)\", \"size\": 1}, \"y\": [3, 3]}, {\"hoverinfo\": \"none\", \"showlegend\": true, \"uid\": \"def6623a-b151-11e8-a945-e1dee26bfa04\", \"type\": \"scatter\", \"name\": \" Sleep\", \"x\": [\" 2016-01-01 21:00:00\", \" 2016-01-01 21:00:00\"], \"marker\": {\"color\": \"rgb(148, 103, 189)\", \"size\": 1}, \"y\": [4, 4]}], {\"showlegend\": true, \"height\": 600, \"title\": \"Gantt Chart\", \"shapes\": [{\"opacity\": 1, \"type\": \"rect\", \"x0\": \" 2016-01-01\", \"xref\": \"x\", \"y0\": -0.8, \"yref\": \"y\", \"y1\": 0.8, \"fillcolor\": \"rgb(148, 103, 189)\", \"x1\": \" 2016-01-01 6:00:00\", \"line\": {\"width\": 0}}, {\"opacity\": 1, \"type\": \"rect\", \"x0\": \" 2016-01-01 7:00:00\", \"xref\": \"x\", \"y0\": 0.19999999999999996, \"yref\": \"y\", \"y1\": 1.8, \"fillcolor\": \"rgb(44, 160, 44)\", \"x1\": \" 2016-01-01 7:30:00\", \"line\": {\"width\": 0}}, {\"opacity\": 1, \"type\": \"rect\", \"x0\": \" 2016-01-01 9:00:00\", \"xref\": \"x\", \"y0\": 1.2, \"yref\": \"y\", \"y1\": 2.8, \"fillcolor\": \"rgb(31, 119, 180)\", \"x1\": \" 2016-01-01 11:25:00\", \"line\": {\"width\": 0}}, {\"opacity\": 1, \"type\": \"rect\", \"x0\": \" 2016-01-01 11:30:00\", \"xref\": \"x\", \"y0\": 2.2, \"yref\": \"y\", \"y1\": 3.8, \"fillcolor\": \"rgb(214, 39, 40)\", \"x1\": \" 2016-01-01 12:00:00\", \"line\": {\"width\": 0}}, {\"opacity\": 1, \"type\": \"rect\", \"x0\": \" 2016-01-01 12:00:00\", \"xref\": \"x\", \"y0\": 3.2, \"yref\": \"y\", \"y1\": 4.8, \"fillcolor\": \"rgb(44, 160, 44)\", \"x1\": \" 2016-01-01 13:00:00\", \"line\": {\"width\": 0}}, {\"opacity\": 1, \"type\": \"rect\", \"x0\": \" 2016-01-01 13:00:00\", \"xref\": \"x\", \"y0\": 4.2, \"yref\": \"y\", \"y1\": 5.8, \"fillcolor\": \"rgb(31, 119, 180)\", \"x1\": \" 2016-01-01 17:00:00\", \"line\": {\"width\": 0}}, {\"opacity\": 1, \"type\": \"rect\", \"x0\": \" 2016-01-01 17:30:00\", \"xref\": \"x\", \"y0\": 5.2, \"yref\": \"y\", \"y1\": 6.8, \"fillcolor\": \"rgb(255, 127, 14)\", \"x1\": \" 2016-01-01 18:30:00\", \"line\": {\"width\": 0}}, {\"opacity\": 1, \"type\": \"rect\", \"x0\": \" 2016-01-01 18:30:00\", \"xref\": \"x\", \"y0\": 6.2, \"yref\": \"y\", \"y1\": 7.8, \"fillcolor\": \"rgb(214, 39, 40)\", \"x1\": \" 2016-01-01 19:00:00\", \"line\": {\"width\": 0}}, {\"opacity\": 1, \"type\": \"rect\", \"x0\": \" 2016-01-01 19:00:00\", \"xref\": \"x\", \"y0\": 7.2, \"yref\": \"y\", \"y1\": 8.8, \"fillcolor\": \"rgb(44, 160, 44)\", \"x1\": \" 2016-01-01 20:00:00\", \"line\": {\"width\": 0}}, {\"opacity\": 1, \"type\": \"rect\", \"x0\": \" 2016-01-01 21:00:00\", \"xref\": \"x\", \"y0\": 8.2, \"yref\": \"y\", \"y1\": 9.8, \"fillcolor\": \"rgb(148, 103, 189)\", \"x1\": \" 2016-01-01 23:59:00\", \"line\": {\"width\": 0}}], \"xaxis\": {\"zeroline\": false, \"type\": \"date\", \"rangeselector\": {\"buttons\": [{\"count\": 7, \"label\": \"1w\", \"step\": \"day\", \"stepmode\": \"backward\"}, {\"count\": 1, \"label\": \"1m\", \"step\": \"month\", \"stepmode\": \"backward\"}, {\"count\": 6, \"label\": \"6m\", \"step\": \"month\", \"stepmode\": \"backward\"}, {\"count\": 1, \"label\": \"YTD\", \"step\": \"year\", \"stepmode\": \"todate\"}, {\"count\": 1, \"label\": \"1y\", \"step\": \"year\", \"stepmode\": \"backward\"}, {\"step\": \"all\"}]}, \"showgrid\": true}, \"hovermode\": \"closest\", \"yaxis\": {\"tickvals\": [0, 1, 2, 3, 4, 5, 6, 7, 8, 9], \"autorange\": false, \"range\": [-1, 11], \"ticktext\": [\"Morning Sleep\", \"Breakfast\", \"Work\", \"Break\", \"Lunch\", \"Work\", \"Exercise\", \"Post Workout Rest\", \"Dinner\", \"Evening Sleep\"], \"zeroline\": false, \"showgrid\": true}, \"width\": 900}, {\"linkText\": \"Export to plot.ly\", \"showLink\": true})});</script>"
      ]
     },
     "metadata": {},
     "output_type": "display_data"
    }
   ],
   "source": [
    "plotly.offline.iplot(fig, filename='gantt-chart')"
   ]
  }
 ],
 "metadata": {
  "kernelspec": {
   "display_name": "Python [default]",
   "language": "python",
   "name": "python3"
  },
  "language_info": {
   "codemirror_mode": {
    "name": "ipython",
    "version": 3
   },
   "file_extension": ".py",
   "mimetype": "text/x-python",
   "name": "python",
   "nbconvert_exporter": "python",
   "pygments_lexer": "ipython3",
   "version": "3.5.6"
  }
 },
 "nbformat": 4,
 "nbformat_minor": 2
}
