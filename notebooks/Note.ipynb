{
 "cells": [
  {
   "cell_type": "markdown",
   "metadata": {},
   "source": [
    "# Note"
   ]
  },
  {
   "cell_type": "markdown",
   "metadata": {},
   "source": [
    "## Code modification\n",
    "\n",
    "* Manning's equation => Darcy-Weisbach equation\n",
    "* Intersection with river, ponds, lakes, pools, etc\n",
    "* Allowing to set up the locations and time histories of point sources through input files\n",
    "* Outflow boundary conditions\n",
    "* Evaporation and infiltration model"
   ]
  },
  {
   "cell_type": "markdown",
   "metadata": {},
   "source": [
    "## Possible ways to improve performance\n",
    "\n",
    "* More CPU cores\n",
    "* AMR setting up and spatial resolution\n",
    "* Ignoring most of dry regions\n",
    "* Adaptive time-step size setting up"
   ]
  },
  {
   "cell_type": "markdown",
   "metadata": {},
   "source": [
    "## Software usage\n",
    "\n",
    "* A simple way to launch simulations. No re-compiling.\n",
    "* Simplifying the way to feed in simulation parameters.\n",
    "* Integration with Jupyter Notebook.\n",
    "* Integration with GIS software\n",
    "* Amazon AWS or other cloud services\n",
    "* Outputing commonly used GIS file format: e.g., NetCDF\n",
    "* Windows system"
   ]
  },
  {
   "cell_type": "markdown",
   "metadata": {},
   "source": [
    "## Misc.\n",
    "\n",
    "* Pre-processing of topography\n",
    "    * identifying areas of existing water resource\n",
    "    * artifitial structure, e.g., intersection of two high-ways\n",
    "* Darcy fricton factor\n",
    "* Effect of surface tension\n",
    "* Effect of weather conditions: winds, rains, etc."
   ]
  }
 ],
 "metadata": {
  "kernelspec": {
   "display_name": "Python 3",
   "language": "python",
   "name": "python3"
  },
  "language_info": {
   "codemirror_mode": {
    "name": "ipython",
    "version": 3
   },
   "file_extension": ".py",
   "mimetype": "text/x-python",
   "name": "python",
   "nbconvert_exporter": "python",
   "pygments_lexer": "ipython3",
   "version": "3.6.6"
  }
 },
 "nbformat": 4,
 "nbformat_minor": 2
}
