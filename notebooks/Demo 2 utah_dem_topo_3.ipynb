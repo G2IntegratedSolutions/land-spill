{
 "cells": [
  {
   "cell_type": "markdown",
   "metadata": {},
   "source": [
    "Demo 2: utah_dem_topo_3\n",
    "==========================================="
   ]
  },
  {
   "cell_type": "markdown",
   "metadata": {},
   "source": [
    "Demo 2 is basically the same as Demo 1, excpet that the computational domain is much smaller here. From the results of Demo 1, we can see the final wet region occupies only a very small region compared to the overall. So in this demo we try to use smaller computational domain and see if the simulation runtime reduces."
   ]
  },
  {
   "cell_type": "markdown",
   "metadata": {},
   "source": [
    "## 1. Topography\n",
    "\n",
    "The topography file is the same as demo 1."
   ]
  },
  {
   "cell_type": "markdown",
   "metadata": {},
   "source": [
    "## 2. Pipeline breakage point\n",
    "\n",
    "The location and settings are the same as Demo 1."
   ]
  },
  {
   "cell_type": "markdown",
   "metadata": {},
   "source": [
    "## 3. Other simulation setup\n",
    "\n",
    "Only the difference against Demo 1 is listed.\n",
    "\n",
    "* Computational domain (coord. of bottom-left and top-right corners): (-12460050, 4985600) and (-12459250, 4986400)\n",
    "* Initial number of cells: 200 x 200"
   ]
  },
  {
   "cell_type": "markdown",
   "metadata": {},
   "source": [
    "## 4. Result\n",
    "\n",
    "Only the difference is listed.\n",
    "\n",
    "* Runtime: about 14 minutes\n",
    "* Final number of cells:\n",
    "    * Total: 100192\n",
    "    * Coarse cells: 40000\n",
    "    * Fine cells: 60192\n",
    "\n",
    "Note that the number of fine cells are different that in Demo 1. Then the simulation will be different, too."
   ]
  },
  {
   "cell_type": "markdown",
   "metadata": {},
   "source": [
    "### 4.1 Animation"
   ]
  },
  {
   "cell_type": "code",
   "execution_count": 1,
   "metadata": {},
   "outputs": [
    {
     "data": {
      "text/html": [
       "    <video width=100% height=100% controls>\n",
       "        <source src='./images/utah-dem-2.mp4'>\n",
       "        Your browser does not support the video tag.\n",
       "    </video>"
      ],
      "text/plain": [
       "<IPython.core.display.HTML object>"
      ]
     },
     "metadata": {},
     "output_type": "display_data"
    }
   ],
   "source": [
    "%%html\n",
    "    <video width=100% height=100% controls>\n",
    "        <source src='./images/utah-dem-2.mp4'>\n",
    "        Your browser does not support the video tag.\n",
    "    </video>"
   ]
  }
 ],
 "metadata": {
  "kernelspec": {
   "display_name": "Python 3",
   "language": "python",
   "name": "python3"
  },
  "language_info": {
   "codemirror_mode": {
    "name": "ipython",
    "version": 3
   },
   "file_extension": ".py",
   "mimetype": "text/x-python",
   "name": "python",
   "nbconvert_exporter": "python",
   "pygments_lexer": "ipython3",
   "version": "3.6.6"
  }
 },
 "nbformat": 4,
 "nbformat_minor": 2
}
